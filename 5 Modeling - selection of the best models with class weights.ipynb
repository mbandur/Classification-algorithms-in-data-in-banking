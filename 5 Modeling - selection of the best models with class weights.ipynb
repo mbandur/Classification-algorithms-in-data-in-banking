{
 "cells": [
  {
   "cell_type": "markdown",
   "metadata": {},
   "source": [
    "# Modeling - selection of the best models with class weights"
   ]
  },
  {
   "cell_type": "markdown",
   "metadata": {},
   "source": [
    "#### Importing necessary libraries:"
   ]
  },
  {
   "cell_type": "code",
   "execution_count": 1,
   "metadata": {},
   "outputs": [],
   "source": [
    "import functions\n",
    "import pandas as pd\n",
    "import numpy as np\n",
    "import pickle\n",
    "from sklearn.ensemble import RandomForestClassifier\n",
    "from sklearn.linear_model import LogisticRegression\n",
    "from sklearn.model_selection import GridSearchCV, train_test_split\n",
    "from sklearn.svm import SVC\n",
    "from sklearn.tree import DecisionTreeClassifier\n",
    "from xgboost.sklearn import XGBClassifier\n",
    "import warnings\n",
    "from sklearn.exceptions import UndefinedMetricWarning, ConvergenceWarning\n",
    "warnings.filterwarnings(action='ignore', category=UndefinedMetricWarning)\n",
    "warnings.filterwarnings(action='ignore', category=ConvergenceWarning)\n",
    "warnings.simplefilter('ignore', FutureWarning)"
   ]
  },
  {
   "cell_type": "markdown",
   "metadata": {},
   "source": [
    "#### Loading sets:"
   ]
  },
  {
   "cell_type": "code",
   "execution_count": 2,
   "metadata": {},
   "outputs": [],
   "source": [
    "data_scaled = pd.read_csv(r'./data/data_scaled.csv', delimiter = ';')"
   ]
  },
  {
   "cell_type": "markdown",
   "metadata": {},
   "source": [
    "#### Split dataset into train and test subsets:"
   ]
  },
  {
   "cell_type": "code",
   "execution_count": 3,
   "metadata": {},
   "outputs": [],
   "source": [
    "y = data_scaled['y']\n",
    "X_scaled = data_scaled.drop(['y'], axis = 1)\n",
    "X_train, X_test, y_train, y_test = train_test_split(X_scaled, y, test_size = 0.2, random_state = 100, stratify = y)"
   ]
  },
  {
   "cell_type": "markdown",
   "metadata": {},
   "source": [
    "## Examinig baseline models with class weights"
   ]
  },
  {
   "cell_type": "code",
   "execution_count": 4,
   "metadata": {},
   "outputs": [],
   "source": [
    "results_wcw = {}"
   ]
  },
  {
   "cell_type": "markdown",
   "metadata": {},
   "source": [
    "#### Logistic Regression (with class weights):"
   ]
  },
  {
   "cell_type": "code",
   "execution_count": 5,
   "metadata": {},
   "outputs": [
    {
     "name": "stdout",
     "output_type": "stream",
     "text": [
      "Classification Report X_test:\n",
      "              precision    recall  f1-score   support\n",
      "\n",
      "           0       0.95      0.86      0.90      7308\n",
      "           1       0.35      0.61      0.45       928\n",
      "\n",
      "    accuracy                           0.83      8236\n",
      "   macro avg       0.65      0.73      0.67      8236\n",
      "weighted avg       0.88      0.83      0.85      8236\n",
      "\n",
      "Confusion Matrix:\n",
      "AUC: 0.58\n",
      "LogisticRegression(C=1.0, class_weight='balanced', dual=False,\n",
      "                   fit_intercept=True, intercept_scaling=1, l1_ratio=None,\n",
      "                   max_iter=100, multi_class='auto', n_jobs=None, penalty='l2',\n",
      "                   random_state=None, solver='lbfgs', tol=0.0001, verbose=0,\n",
      "                   warm_start=False)\n"
     ]
    },
    {
     "data": {
      "image/png": "[encoded data removed]",
      "text/plain": [
       "<Figure size 216x216 with 2 Axes>"
      ]
     },
     "metadata": {
      "needs_background": "light"
     },
     "output_type": "display_data"
    }
   ],
   "source": [
    "model_LR_wcw = functions.vis_results(LogisticRegression(class_weight='balanced'), X_train, X_test, y_train, y_test)\n",
    "results_wcw.update(dict(functions.model_result(model_LR_wcw)))"
   ]
  },
  {
   "cell_type": "markdown",
   "metadata": {},
   "source": [
    "#### Decision Tree Classifier (with class weights):"
   ]
  },
  {
   "cell_type": "code",
   "execution_count": 6,
   "metadata": {},
   "outputs": [
    {
     "name": "stdout",
     "output_type": "stream",
     "text": [
      "Classification Report X_test:\n",
      "              precision    recall  f1-score   support\n",
      "\n",
      "           0       0.91      0.91      0.91      7308\n",
      "           1       0.31      0.33      0.32       928\n",
      "\n",
      "    accuracy                           0.84      8236\n",
      "   macro avg       0.61      0.62      0.62      8236\n",
      "weighted avg       0.85      0.84      0.84      8236\n",
      "\n",
      "Confusion Matrix:\n",
      "AUC: 0.24\n",
      "DecisionTreeClassifier(ccp_alpha=0.0, class_weight='balanced', criterion='gini',\n",
      "                       max_depth=None, max_features=None, max_leaf_nodes=None,\n",
      "                       min_impurity_decrease=0.0, min_impurity_split=None,\n",
      "                       min_samples_leaf=1, min_samples_split=2,\n",
      "                       min_weight_fraction_leaf=0.0, presort='deprecated',\n",
      "                       random_state=None, splitter='best')\n"
     ]
    },
    {
     "data": {
      "image/png": "[encoded data removed]",
      "text/plain": [
       "<Figure size 216x216 with 2 Axes>"
      ]
     },
     "metadata": {
      "needs_background": "light"
     },
     "output_type": "display_data"
    }
   ],
   "source": [
    "model_DTC_wcw = functions.vis_results(DecisionTreeClassifier(class_weight='balanced'), X_train, X_test, y_train, y_test)\n",
    "results_wcw.update(dict(functions.model_result(model_DTC_wcw)))"
   ]
  },
  {
   "cell_type": "markdown",
   "metadata": {},
   "source": [
    "#### Random Forest Classifier (with class weights):"
   ]
  },
  {
   "cell_type": "code",
   "execution_count": 7,
   "metadata": {
    "scrolled": true
   },
   "outputs": [
    {
     "name": "stdout",
     "output_type": "stream",
     "text": [
      "Classification Report X_test:\n",
      "              precision    recall  f1-score   support\n",
      "\n",
      "           0       0.91      0.97      0.94      7308\n",
      "           1       0.54      0.28      0.37       928\n",
      "\n",
      "    accuracy                           0.89      8236\n",
      "   macro avg       0.73      0.62      0.65      8236\n",
      "weighted avg       0.87      0.89      0.88      8236\n",
      "\n",
      "Confusion Matrix:\n",
      "AUC: 0.53\n",
      "RandomForestClassifier(bootstrap=True, ccp_alpha=0.0, class_weight='balanced',\n",
      "                       criterion='gini', max_depth=None, max_features='auto',\n",
      "                       max_leaf_nodes=None, max_samples=None,\n",
      "                       min_impurity_decrease=0.0, min_impurity_split=None,\n",
      "                       min_samples_leaf=1, min_samples_split=2,\n",
      "                       min_weight_fraction_leaf=0.0, n_estimators=100,\n",
      "                       n_jobs=None, oob_score=False, random_state=None,\n",
      "                       verbose=0, warm_start=False)\n"
     ]
    },
    {
     "data": {
      "image/png": "[encoded data removed]",
      "text/plain": [
       "<Figure size 216x216 with 2 Axes>"
      ]
     },
     "metadata": {
      "needs_background": "light"
     },
     "output_type": "display_data"
    }
   ],
   "source": [
    "model_RFC_wcw = functions.vis_results(RandomForestClassifier(class_weight='balanced'), X_train, X_test, y_train, y_test)\n",
    "results_wcw.update(dict(functions.model_result(model_RFC_wcw)))"
   ]
  },
  {
   "cell_type": "markdown",
   "metadata": {},
   "source": [
    "#### SVM (with class weights):"
   ]
  },
  {
   "cell_type": "code",
   "execution_count": 8,
   "metadata": {},
   "outputs": [
    {
     "name": "stdout",
     "output_type": "stream",
     "text": [
      "Classification Report X_test:\n",
      "              precision    recall  f1-score   support\n",
      "\n",
      "           0       0.94      0.88      0.91      7308\n",
      "           1       0.38      0.59      0.46       928\n",
      "\n",
      "    accuracy                           0.84      8236\n",
      "   macro avg       0.66      0.73      0.69      8236\n",
      "weighted avg       0.88      0.84      0.86      8236\n",
      "\n",
      "Confusion Matrix:\n",
      "AUC: 0.53\n",
      "SVC(C=1.0, break_ties=False, cache_size=200, class_weight='balanced', coef0=0.0,\n",
      "    decision_function_shape='ovr', degree=3, gamma='scale', kernel='rbf',\n",
      "    max_iter=-1, probability=True, random_state=None, shrinking=True, tol=0.001,\n",
      "    verbose=False)\n"
     ]
    },
    {
     "data": {
      "image/png": "[encoded data removed]",
      "text/plain": [
       "<Figure size 216x216 with 2 Axes>"
      ]
     },
     "metadata": {
      "needs_background": "light"
     },
     "output_type": "display_data"
    }
   ],
   "source": [
    "model_SVM_wcw = functions.vis_results(SVC(probability=True, class_weight='balanced'), X_train, X_test, y_train, y_test)\n",
    "results_wcw.update(dict(functions.model_result(model_SVM_wcw)))"
   ]
  },
  {
   "cell_type": "markdown",
   "metadata": {},
   "source": [
    "#### XGB Classifier (with class weights):"
   ]
  },
  {
   "cell_type": "code",
   "execution_count": 9,
   "metadata": {},
   "outputs": [
    {
     "name": "stdout",
     "output_type": "stream",
     "text": [
      "Classification Report X_test:\n",
      "              precision    recall  f1-score   support\n",
      "\n",
      "           0       0.95      0.86      0.90      7308\n",
      "           1       0.36      0.61      0.45       928\n",
      "\n",
      "    accuracy                           0.83      8236\n",
      "   macro avg       0.65      0.74      0.68      8236\n",
      "weighted avg       0.88      0.83      0.85      8236\n",
      "\n",
      "Confusion Matrix:\n",
      "AUC: 0.60\n",
      "XGBClassifier(base_score=0.5, booster='gbtree', colsample_bylevel=1,\n",
      "              colsample_bynode=1, colsample_bytree=1, gamma=0,\n",
      "              learning_rate=0.1, max_delta_step=0, max_depth=3,\n",
      "              min_child_weight=1, missing=None, n_estimators=100, n_jobs=1,\n",
      "              nthread=None, objective='binary:logistic', random_state=0,\n",
      "              reg_alpha=0, reg_lambda=1, scale_pos_weight=7.876050873032981,\n",
      "              seed=None, silent=None, subsample=1, verbosity=1)\n"
     ]
    },
    {
     "data": {
      "image/png": "[encoded data removed]",
      "text/plain": [
       "<Figure size 216x216 with 2 Axes>"
      ]
     },
     "metadata": {
      "needs_background": "light"
     },
     "output_type": "display_data"
    }
   ],
   "source": [
    "scale_pos_weight = np.sum(y == 0)/ float(np.sum(y == 1))\n",
    "model_XGB_wcw = functions.vis_results(XGBClassifier(scale_pos_weight = scale_pos_weight), X_train, X_test, y_train, y_test)\n",
    "results_wcw.update(dict(functions.model_result(model_XGB_wcw)))"
   ]
  },
  {
   "cell_type": "markdown",
   "metadata": {},
   "source": [
    "### Results:"
   ]
  },
  {
   "cell_type": "code",
   "execution_count": 10,
   "metadata": {},
   "outputs": [
    {
     "data": {
      "text/html": [
       "<div>\n",
       "<style scoped>\n",
       "    .dataframe tbody tr th:only-of-type {\n",
       "        vertical-align: middle;\n",
       "    }\n",
       "\n",
       "    .dataframe tbody tr th {\n",
       "        vertical-align: top;\n",
       "    }\n",
       "\n",
       "    .dataframe thead th {\n",
       "        text-align: right;\n",
       "    }\n",
       "</style>\n",
       "<table border=\"1\" class=\"dataframe\">\n",
       "  <thead>\n",
       "    <tr style=\"text-align: right;\">\n",
       "      <th></th>\n",
       "      <th>Model</th>\n",
       "      <th>ACC</th>\n",
       "      <th>AUC</th>\n",
       "      <th>PRECISION_ALL</th>\n",
       "      <th>RECALL_ALL</th>\n",
       "      <th>F1_ALL</th>\n",
       "      <th>PRECISION_1</th>\n",
       "      <th>RECALL_1</th>\n",
       "      <th>F1_1</th>\n",
       "    </tr>\n",
       "  </thead>\n",
       "  <tbody>\n",
       "    <tr>\n",
       "      <th>0</th>\n",
       "      <td>LogisticRegression</td>\n",
       "      <td>0.830986</td>\n",
       "      <td>0.581923</td>\n",
       "      <td>0.878629</td>\n",
       "      <td>0.830986</td>\n",
       "      <td>0.849231</td>\n",
       "      <td>0.354271</td>\n",
       "      <td>0.607759</td>\n",
       "      <td>0.447619</td>\n",
       "    </tr>\n",
       "    <tr>\n",
       "      <th>1</th>\n",
       "      <td>DecisionTreeClassifier</td>\n",
       "      <td>0.841306</td>\n",
       "      <td>0.240544</td>\n",
       "      <td>0.846371</td>\n",
       "      <td>0.841306</td>\n",
       "      <td>0.843774</td>\n",
       "      <td>0.309930</td>\n",
       "      <td>0.332974</td>\n",
       "      <td>0.321039</td>\n",
       "    </tr>\n",
       "    <tr>\n",
       "      <th>2</th>\n",
       "      <td>RandomForestClassifier</td>\n",
       "      <td>0.891816</td>\n",
       "      <td>0.526414</td>\n",
       "      <td>0.871372</td>\n",
       "      <td>0.891816</td>\n",
       "      <td>0.876167</td>\n",
       "      <td>0.538622</td>\n",
       "      <td>0.278017</td>\n",
       "      <td>0.366738</td>\n",
       "    </tr>\n",
       "    <tr>\n",
       "      <th>3</th>\n",
       "      <td>SVC</td>\n",
       "      <td>0.844342</td>\n",
       "      <td>0.527108</td>\n",
       "      <td>0.880355</td>\n",
       "      <td>0.844342</td>\n",
       "      <td>0.858583</td>\n",
       "      <td>0.378099</td>\n",
       "      <td>0.591595</td>\n",
       "      <td>0.461345</td>\n",
       "    </tr>\n",
       "    <tr>\n",
       "      <th>4</th>\n",
       "      <td>XGBClassifier</td>\n",
       "      <td>0.833293</td>\n",
       "      <td>0.599595</td>\n",
       "      <td>0.879527</td>\n",
       "      <td>0.833293</td>\n",
       "      <td>0.851015</td>\n",
       "      <td>0.358909</td>\n",
       "      <td>0.609914</td>\n",
       "      <td>0.451896</td>\n",
       "    </tr>\n",
       "  </tbody>\n",
       "</table>\n",
       "</div>"
      ],
      "text/plain": [
       "                    Model       ACC       AUC  PRECISION_ALL  RECALL_ALL  \\\n",
       "0      LogisticRegression  0.830986  0.581923       0.878629    0.830986   \n",
       "1  DecisionTreeClassifier  0.841306  0.240544       0.846371    0.841306   \n",
       "2  RandomForestClassifier  0.891816  0.526414       0.871372    0.891816   \n",
       "3                     SVC  0.844342  0.527108       0.880355    0.844342   \n",
       "4           XGBClassifier  0.833293  0.599595       0.879527    0.833293   \n",
       "\n",
       "     F1_ALL  PRECISION_1  RECALL_1      F1_1  \n",
       "0  0.849231     0.354271  0.607759  0.447619  \n",
       "1  0.843774     0.309930  0.332974  0.321039  \n",
       "2  0.876167     0.538622  0.278017  0.366738  \n",
       "3  0.858583     0.378099  0.591595  0.461345  \n",
       "4  0.851015     0.358909  0.609914  0.451896  "
      ]
     },
     "execution_count": 10,
     "metadata": {},
     "output_type": "execute_result"
    }
   ],
   "source": [
    "results_wcw = pd.DataFrame(data=results_wcw).T\n",
    "results_wcw.reset_index(inplace=True)\n",
    "results_wcw.columns = ['Model', 'ACC', 'AUC', 'PRECISION_ALL', 'RECALL_ALL', 'F1_ALL', 'PRECISION_1', 'RECALL_1', 'F1_1']\n",
    "results_wcw"
   ]
  },
  {
   "cell_type": "markdown",
   "metadata": {},
   "source": [
    "### Save results:"
   ]
  },
  {
   "cell_type": "code",
   "execution_count": 11,
   "metadata": {},
   "outputs": [],
   "source": [
    "results_wcw.to_csv(r'./results/results_wcw.csv', sep=';', index=False)"
   ]
  },
  {
   "cell_type": "markdown",
   "metadata": {},
   "source": [
    "### Save models:"
   ]
  },
  {
   "cell_type": "code",
   "execution_count": 12,
   "metadata": {},
   "outputs": [],
   "source": [
    "with open(f'./models/model_LR_wcw.pickle', 'wb') as f:\n",
    "    pickle.dump(model_LR_wcw[0], f, pickle.HIGHEST_PROTOCOL)\n",
    "with open(f'./models/model_DTC_wcw.pickle', 'wb') as f:\n",
    "    pickle.dump(model_DTC_wcw[0], f, pickle.HIGHEST_PROTOCOL)\n",
    "with open(f'./models/model_RFC_wcw.pickle', 'wb') as f:\n",
    "    pickle.dump(model_RFC_wcw[0], f, pickle.HIGHEST_PROTOCOL)\n",
    "with open(f'./models/model_SVM_wcw.pickle', 'wb') as f:\n",
    "    pickle.dump(model_SVM_wcw[0], f, pickle.HIGHEST_PROTOCOL)\n",
    "with open(f'./models/model_XGB_wcw.pickle', 'wb') as f:\n",
    "    pickle.dump(model_XGB_wcw[0], f, pickle.HIGHEST_PROTOCOL)"
   ]
  }
 ],
 "metadata": {
  "kernelspec": {
   "display_name": "Python 3",
   "language": "python",
   "name": "python3"
  },
  "language_info": {
   "codemirror_mode": {
    "name": "ipython",
    "version": 3
   },
   "file_extension": ".py",
   "mimetype": "text/x-python",
   "name": "python",
   "nbconvert_exporter": "python",
   "pygments_lexer": "ipython3",
   "version": "3.7.6"
  }
 },
 "nbformat": 4,
 "nbformat_minor": 4
}
