{
 "cells": [
  {
   "cell_type": "markdown",
   "metadata": {},
   "source": [
    "# Modeling - selection of the best models with grid search optimization"
   ]
  },
  {
   "cell_type": "markdown",
   "metadata": {},
   "source": [
    "#### Importing necessary libraries:"
   ]
  },
  {
   "cell_type": "code",
   "execution_count": 1,
   "metadata": {},
   "outputs": [],
   "source": [
    "import functions\n",
    "import pandas as pd\n",
    "import numpy as np\n",
    "import pickle\n",
    "from sklearn.ensemble import RandomForestClassifier\n",
    "from sklearn.linear_model import LogisticRegression\n",
    "from sklearn.model_selection import GridSearchCV, train_test_split\n",
    "from sklearn.svm import SVC\n",
    "from sklearn.tree import DecisionTreeClassifier\n",
    "from xgboost.sklearn import XGBClassifier\n",
    "import warnings\n",
    "from sklearn.exceptions import UndefinedMetricWarning, ConvergenceWarning\n",
    "warnings.filterwarnings(action='ignore', category=UndefinedMetricWarning)\n",
    "warnings.filterwarnings(action='ignore', category=ConvergenceWarning)\n",
    "warnings.simplefilter('ignore', FutureWarning)"
   ]
  },
  {
   "cell_type": "markdown",
   "metadata": {},
   "source": [
    "#### Loading sets:"
   ]
  },
  {
   "cell_type": "code",
   "execution_count": 2,
   "metadata": {},
   "outputs": [],
   "source": [
    "data_scaled = pd.read_csv(r'./data/data_scaled.csv', delimiter = ';')"
   ]
  },
  {
   "cell_type": "markdown",
   "metadata": {},
   "source": [
    "#### Split dataset into train and test subsets:"
   ]
  },
  {
   "cell_type": "code",
   "execution_count": 3,
   "metadata": {},
   "outputs": [],
   "source": [
    "y = data_scaled['y']\n",
    "X_scaled = data_scaled.drop(['y'], axis = 1)\n",
    "X_train, X_test, y_train, y_test = train_test_split(X_scaled, y, test_size = 0.2, random_state = 100, stratify = y)"
   ]
  },
  {
   "cell_type": "markdown",
   "metadata": {},
   "source": [
    "# Examinig baseline models with grid search optimization"
   ]
  },
  {
   "cell_type": "code",
   "execution_count": 4,
   "metadata": {},
   "outputs": [],
   "source": [
    "results_wgs = {}"
   ]
  },
  {
   "cell_type": "markdown",
   "metadata": {},
   "source": [
    "##### LogisticRegression (with grid search):"
   ]
  },
  {
   "cell_type": "code",
   "execution_count": 5,
   "metadata": {},
   "outputs": [
    {
     "name": "stdout",
     "output_type": "stream",
     "text": [
      "Classification Report X_test:\n",
      "              precision    recall  f1-score   support\n",
      "\n",
      "           0       0.95      0.86      0.90      7308\n",
      "           1       0.35      0.61      0.45       928\n",
      "\n",
      "    accuracy                           0.83      8236\n",
      "   macro avg       0.65      0.73      0.67      8236\n",
      "weighted avg       0.88      0.83      0.85      8236\n",
      "\n",
      "Confusion Matrix:\n",
      "AUC: 0.58\n",
      "LogisticRegression(C=10, class_weight='balanced', dual=False,\n",
      "                   fit_intercept=True, intercept_scaling=1, l1_ratio=None,\n",
      "                   max_iter=100, multi_class='auto', n_jobs=None, penalty='l2',\n",
      "                   random_state=None, solver='liblinear', tol=0.0001, verbose=0,\n",
      "                   warm_start=False)\n"
     ]
    },
    {
     "data": {
      "image/png": "[encoded data removed]",
      "text/plain": [
       "<Figure size 216x216 with 2 Axes>"
      ]
     },
     "metadata": {
      "needs_background": "light"
     },
     "output_type": "display_data"
    }
   ],
   "source": [
    "model_to_gs = LogisticRegression(solver='liblinear', class_weight='balanced')\n",
    "params = {\n",
    "    \"C\":[0.001, 0.01, 0.1, 1, 10, 100],\n",
    "    \"penalty\":[\"l1\",\"l2\"],\n",
    "}\n",
    "gscv = GridSearchCV(param_grid=params, estimator=model_to_gs, cv = 3, n_jobs = 8)\n",
    "gscv.fit(X_train, y_train)\n",
    "means = gscv.cv_results_\n",
    "best_model = gscv.best_estimator_\n",
    "model_LR_wgs = functions.vis_results(best_model, X_train, X_test, y_train, y_test)\n",
    "results_wgs.update(dict(functions.model_result(model_LR_wgs)))"
   ]
  },
  {
   "cell_type": "markdown",
   "metadata": {},
   "source": [
    "##### Decision Tree Classifier (with grid search):"
   ]
  },
  {
   "cell_type": "code",
   "execution_count": 6,
   "metadata": {
    "scrolled": true
   },
   "outputs": [
    {
     "name": "stdout",
     "output_type": "stream",
     "text": [
      "Classification Report X_test:\n",
      "              precision    recall  f1-score   support\n",
      "\n",
      "           0       0.93      0.92      0.93      7308\n",
      "           1       0.45      0.48      0.47       928\n",
      "\n",
      "    accuracy                           0.88      8236\n",
      "   macro avg       0.69      0.70      0.70      8236\n",
      "weighted avg       0.88      0.88      0.88      8236\n",
      "\n",
      "Confusion Matrix:\n",
      "AUC: 0.41\n",
      "DecisionTreeClassifier(ccp_alpha=0.0, class_weight='balanced', criterion='gini',\n",
      "                       max_depth=1, max_features=None, max_leaf_nodes=None,\n",
      "                       min_impurity_decrease=0.0, min_impurity_split=None,\n",
      "                       min_samples_leaf=1, min_samples_split=2,\n",
      "                       min_weight_fraction_leaf=0.0, presort='deprecated',\n",
      "                       random_state=None, splitter='best')\n"
     ]
    },
    {
     "data": {
      "image/png": "[encoded data removed]",
      "text/plain": [
       "<Figure size 216x216 with 2 Axes>"
      ]
     },
     "metadata": {
      "needs_background": "light"
     },
     "output_type": "display_data"
    }
   ],
   "source": [
    "model_to_gs = DecisionTreeClassifier(class_weight='balanced')\n",
    "params = {\n",
    "    \"criterion\": [\"gini\",\"entropy\"],\n",
    "    \"min_samples_leaf\": [1, 5, 10, 15, 25, 50],  \n",
    "    \"max_depth\": [1, 5, 10 , 15, 20, 25],\n",
    "}\n",
    "gscv = GridSearchCV(param_grid=params, estimator=model_to_gs, cv = 3, n_jobs = 8)\n",
    "gscv.fit(X_train, y_train)\n",
    "best_model = gscv.best_estimator_\n",
    "model_DTC_wgs = functions.vis_results(best_model, X_train, X_test, y_train, y_test)\n",
    "results_wgs.update(dict(functions.model_result(model_DTC_wgs)))"
   ]
  },
  {
   "cell_type": "markdown",
   "metadata": {},
   "source": [
    "##### Random Forest Classifier (with grid search):"
   ]
  },
  {
   "cell_type": "code",
   "execution_count": 7,
   "metadata": {},
   "outputs": [
    {
     "name": "stdout",
     "output_type": "stream",
     "text": [
      "Classification Report X_test:\n",
      "              precision    recall  f1-score   support\n",
      "\n",
      "           0       0.92      0.97      0.94      7308\n",
      "           1       0.54      0.30      0.38       928\n",
      "\n",
      "    accuracy                           0.89      8236\n",
      "   macro avg       0.73      0.63      0.66      8236\n",
      "weighted avg       0.87      0.89      0.88      8236\n",
      "\n",
      "Confusion Matrix:\n",
      "AUC: 0.52\n",
      "RandomForestClassifier(bootstrap=True, ccp_alpha=0.0, class_weight='balanced',\n",
      "                       criterion='entropy', max_depth=25, max_features='auto',\n",
      "                       max_leaf_nodes=None, max_samples=None,\n",
      "                       min_impurity_decrease=0.0, min_impurity_split=None,\n",
      "                       min_samples_leaf=1, min_samples_split=2,\n",
      "                       min_weight_fraction_leaf=0.0, n_estimators=100,\n",
      "                       n_jobs=None, oob_score=False, random_state=None,\n",
      "                       verbose=0, warm_start=False)\n"
     ]
    },
    {
     "data": {
      "image/png": "[encoded data removed]",
      "text/plain": [
       "<Figure size 216x216 with 2 Axes>"
      ]
     },
     "metadata": {
      "needs_background": "light"
     },
     "output_type": "display_data"
    }
   ],
   "source": [
    "model_to_gs = RandomForestClassifier(class_weight='balanced')\n",
    "params = {\n",
    "    \"criterion\": [\"gini\",\"entropy\"],\n",
    "    \"min_samples_leaf\": [1, 5, 10, 15, 25, 50],\n",
    "    \"max_depth\": [1, 5 , 10 , 15, 20, 25],\n",
    "}\n",
    "gscv = GridSearchCV(param_grid=params, estimator=model_to_gs, cv = 3, n_jobs = 8)\n",
    "gscv.fit(X_train, y_train)\n",
    "best_model = gscv.best_estimator_\n",
    "model_RFC_wgs = functions.vis_results(best_model, X_train, X_test, y_train, y_test)\n",
    "results_wgs.update(dict(functions.model_result(model_RFC_wgs)))"
   ]
  },
  {
   "cell_type": "markdown",
   "metadata": {},
   "source": [
    "##### SVM (with grid search):"
   ]
  },
  {
   "cell_type": "code",
   "execution_count": 8,
   "metadata": {},
   "outputs": [
    {
     "name": "stdout",
     "output_type": "stream",
     "text": [
      "Classification Report X_test:\n",
      "              precision    recall  f1-score   support\n",
      "\n",
      "           0       0.94      0.88      0.91      7308\n",
      "           1       0.38      0.59      0.46       928\n",
      "\n",
      "    accuracy                           0.84      8236\n",
      "   macro avg       0.66      0.74      0.69      8236\n",
      "weighted avg       0.88      0.84      0.86      8236\n",
      "\n",
      "Confusion Matrix:\n",
      "AUC: 0.53\n",
      "SVC(C=0.5, break_ties=False, cache_size=200, class_weight='balanced', coef0=0.0,\n",
      "    decision_function_shape='ovr', degree=3, gamma='scale', kernel='rbf',\n",
      "    max_iter=-1, probability=True, random_state=None, shrinking=True, tol=0.001,\n",
      "    verbose=False)\n"
     ]
    },
    {
     "data": {
      "image/png": "[encoded data removed]",
      "text/plain": [
       "<Figure size 216x216 with 2 Axes>"
      ]
     },
     "metadata": {
      "needs_background": "light"
     },
     "output_type": "display_data"
    }
   ],
   "source": [
    "model_to_gs = SVC(probability=True, class_weight='balanced')\n",
    "params = {\n",
    "    \"kernel\":['linear', 'rbf'],\n",
    "    \"C\": [0.1, 0.5, 1]\n",
    "         }\n",
    "gscv = GridSearchCV(param_grid = params, estimator = model_to_gs, cv = 3, n_jobs = 8)\n",
    "gscv.fit(X_train, y_train)\n",
    "best_model = gscv.best_estimator_\n",
    "model_SVM_wgs = functions.vis_results(best_model, X_train, X_test, y_train, y_test)\n",
    "results_wgs.update(dict(functions.model_result(model_SVM_wgs)))"
   ]
  },
  {
   "cell_type": "markdown",
   "metadata": {},
   "source": [
    "##### XGB Classifier (with grid search):"
   ]
  },
  {
   "cell_type": "code",
   "execution_count": 9,
   "metadata": {},
   "outputs": [
    {
     "name": "stdout",
     "output_type": "stream",
     "text": [
      "Classification Report X_test:\n",
      "              precision    recall  f1-score   support\n",
      "\n",
      "           0       0.95      0.86      0.90      7308\n",
      "           1       0.36      0.63      0.46       928\n",
      "\n",
      "    accuracy                           0.83      8236\n",
      "   macro avg       0.66      0.75      0.68      8236\n",
      "weighted avg       0.88      0.83      0.85      8236\n",
      "\n",
      "Confusion Matrix:\n",
      "AUC: 0.59\n",
      "XGBClassifier(base_score=0.5, booster='gbtree', colsample_bylevel=1,\n",
      "              colsample_bynode=1, colsample_bytree=1, gamma=0,\n",
      "              learning_rate=0.2, max_delta_step=0, max_depth=3,\n",
      "              min_child_weight=15, missing=None, n_estimator=1,\n",
      "              n_estimators=100, n_jobs=1, nthread=None,\n",
      "              objective='binary:logistic', random_state=0, reg_alpha=0,\n",
      "              reg_lambda=1, scale_pos_weight=7.876050873032981, seed=None,\n",
      "              silent=None, subsample=1, verbosity=1)\n"
     ]
    },
    {
     "data": {
      "image/png": "[encoded data removed]",
      "text/plain": [
       "<Figure size 216x216 with 2 Axes>"
      ]
     },
     "metadata": {
      "needs_background": "light"
     },
     "output_type": "display_data"
    }
   ],
   "source": [
    "scale_pos_weight = np.sum(y == 0)/ float(np.sum(y == 1))\n",
    "model_to_gs = XGBClassifier(scale_pos_weight = scale_pos_weight)\n",
    "params = {\n",
    "    \"n_estimator\": [1, 5, 10, 15, 20, 25],\n",
    "    \"learning_rate\": [0.1, 0.2, 0.3, 0.4],\n",
    "    \"min_child_weight\": [5, 10, 15, 20],\n",
    "}\n",
    "gscv = GridSearchCV(param_grid=params, estimator=model_to_gs, cv = 3, n_jobs = 8)\n",
    "gscv.fit(X_train, y_train)\n",
    "best_model = gscv.best_estimator_\n",
    "model_XGB_wgs = functions.vis_results(best_model, X_train, X_test, y_train, y_test)\n",
    "results_wgs.update(dict(functions.model_result(model_XGB_wgs)))"
   ]
  },
  {
   "cell_type": "markdown",
   "metadata": {},
   "source": [
    "### Results:"
   ]
  },
  {
   "cell_type": "code",
   "execution_count": 10,
   "metadata": {},
   "outputs": [
    {
     "data": {
      "text/html": [
       "<div>\n",
       "<style scoped>\n",
       "    .dataframe tbody tr th:only-of-type {\n",
       "        vertical-align: middle;\n",
       "    }\n",
       "\n",
       "    .dataframe tbody tr th {\n",
       "        vertical-align: top;\n",
       "    }\n",
       "\n",
       "    .dataframe thead th {\n",
       "        text-align: right;\n",
       "    }\n",
       "</style>\n",
       "<table border=\"1\" class=\"dataframe\">\n",
       "  <thead>\n",
       "    <tr style=\"text-align: right;\">\n",
       "      <th></th>\n",
       "      <th>Model</th>\n",
       "      <th>ACC</th>\n",
       "      <th>AUC</th>\n",
       "      <th>PRECISION_ALL</th>\n",
       "      <th>RECALL_ALL</th>\n",
       "      <th>F1_ALL</th>\n",
       "      <th>PRECISION_1</th>\n",
       "      <th>RECALL_1</th>\n",
       "      <th>F1_1</th>\n",
       "    </tr>\n",
       "  </thead>\n",
       "  <tbody>\n",
       "    <tr>\n",
       "      <th>0</th>\n",
       "      <td>LogisticRegression</td>\n",
       "      <td>0.830864</td>\n",
       "      <td>0.581788</td>\n",
       "      <td>0.878596</td>\n",
       "      <td>0.830864</td>\n",
       "      <td>0.849141</td>\n",
       "      <td>0.354049</td>\n",
       "      <td>0.607759</td>\n",
       "      <td>0.447441</td>\n",
       "    </tr>\n",
       "    <tr>\n",
       "      <th>1</th>\n",
       "      <td>DecisionTreeClassifier</td>\n",
       "      <td>0.875061</td>\n",
       "      <td>0.407635</td>\n",
       "      <td>0.879118</td>\n",
       "      <td>0.875061</td>\n",
       "      <td>0.877004</td>\n",
       "      <td>0.449348</td>\n",
       "      <td>0.482759</td>\n",
       "      <td>0.465455</td>\n",
       "    </tr>\n",
       "    <tr>\n",
       "      <th>2</th>\n",
       "      <td>RandomForestClassifier</td>\n",
       "      <td>0.892059</td>\n",
       "      <td>0.524752</td>\n",
       "      <td>0.872956</td>\n",
       "      <td>0.892059</td>\n",
       "      <td>0.877917</td>\n",
       "      <td>0.538160</td>\n",
       "      <td>0.296336</td>\n",
       "      <td>0.382210</td>\n",
       "    </tr>\n",
       "    <tr>\n",
       "      <th>3</th>\n",
       "      <td>SVC</td>\n",
       "      <td>0.843856</td>\n",
       "      <td>0.534516</td>\n",
       "      <td>0.880614</td>\n",
       "      <td>0.843856</td>\n",
       "      <td>0.858339</td>\n",
       "      <td>0.377565</td>\n",
       "      <td>0.594828</td>\n",
       "      <td>0.461925</td>\n",
       "    </tr>\n",
       "    <tr>\n",
       "      <th>4</th>\n",
       "      <td>XGBClassifier</td>\n",
       "      <td>0.833657</td>\n",
       "      <td>0.594176</td>\n",
       "      <td>0.882546</td>\n",
       "      <td>0.833657</td>\n",
       "      <td>0.852042</td>\n",
       "      <td>0.363243</td>\n",
       "      <td>0.632543</td>\n",
       "      <td>0.461478</td>\n",
       "    </tr>\n",
       "  </tbody>\n",
       "</table>\n",
       "</div>"
      ],
      "text/plain": [
       "                    Model       ACC       AUC  PRECISION_ALL  RECALL_ALL  \\\n",
       "0      LogisticRegression  0.830864  0.581788       0.878596    0.830864   \n",
       "1  DecisionTreeClassifier  0.875061  0.407635       0.879118    0.875061   \n",
       "2  RandomForestClassifier  0.892059  0.524752       0.872956    0.892059   \n",
       "3                     SVC  0.843856  0.534516       0.880614    0.843856   \n",
       "4           XGBClassifier  0.833657  0.594176       0.882546    0.833657   \n",
       "\n",
       "     F1_ALL  PRECISION_1  RECALL_1      F1_1  \n",
       "0  0.849141     0.354049  0.607759  0.447441  \n",
       "1  0.877004     0.449348  0.482759  0.465455  \n",
       "2  0.877917     0.538160  0.296336  0.382210  \n",
       "3  0.858339     0.377565  0.594828  0.461925  \n",
       "4  0.852042     0.363243  0.632543  0.461478  "
      ]
     },
     "execution_count": 10,
     "metadata": {},
     "output_type": "execute_result"
    }
   ],
   "source": [
    "results_wgs = pd.DataFrame(data=results_wgs).T\n",
    "results_wgs.reset_index(inplace=True)\n",
    "results_wgs.columns = ['Model', 'ACC', 'AUC', 'PRECISION_ALL', 'RECALL_ALL', 'F1_ALL', 'PRECISION_1', 'RECALL_1', 'F1_1']\n",
    "results_wgs"
   ]
  },
  {
   "cell_type": "markdown",
   "metadata": {},
   "source": [
    "### Save results:"
   ]
  },
  {
   "cell_type": "code",
   "execution_count": 11,
   "metadata": {},
   "outputs": [],
   "source": [
    "results_wgs.to_csv(r'./results/results_wgs.csv', sep=';', index=False)"
   ]
  },
  {
   "cell_type": "markdown",
   "metadata": {},
   "source": [
    "### Save models:"
   ]
  },
  {
   "cell_type": "code",
   "execution_count": 12,
   "metadata": {},
   "outputs": [],
   "source": [
    "with open(f'./models/model_LR_wgs.pickle', 'wb') as f:\n",
    "    pickle.dump(model_LR_wgs[0], f, pickle.HIGHEST_PROTOCOL)\n",
    "with open(f'./models/model_DTC_wgs.pickle', 'wb') as f:\n",
    "    pickle.dump(model_DTC_wgs[0], f, pickle.HIGHEST_PROTOCOL)\n",
    "with open(f'./models/model_RFC_wgs.pickle', 'wb') as f:\n",
    "    pickle.dump(model_RFC_wgs[0], f, pickle.HIGHEST_PROTOCOL)\n",
    "with open(f'./models/model_SVM_wgs.pickle', 'wb') as f:\n",
    "    pickle.dump(model_SVM_wgs[0], f, pickle.HIGHEST_PROTOCOL)\n",
    "with open(f'./models/model_XGB_wgs.pickle', 'wb') as f:\n",
    "    pickle.dump(model_XGB_wgs[0], f, pickle.HIGHEST_PROTOCOL)"
   ]
  }
 ],
 "metadata": {
  "kernelspec": {
   "display_name": "Python 3",
   "language": "python",
   "name": "python3"
  },
  "language_info": {
   "codemirror_mode": {
    "name": "ipython",
    "version": 3
   },
   "file_extension": ".py",
   "mimetype": "text/x-python",
   "name": "python",
   "nbconvert_exporter": "python",
   "pygments_lexer": "ipython3",
   "version": "3.7.6"
  }
 },
 "nbformat": 4,
 "nbformat_minor": 4
}
