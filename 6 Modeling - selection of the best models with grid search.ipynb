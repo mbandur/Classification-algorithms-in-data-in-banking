{
 "cells": [
  {
   "cell_type": "markdown",
   "metadata": {},
   "source": [
    "# Modeling - selection of the best models with grid search optimization"
   ]
  },
  {
   "cell_type": "markdown",
   "metadata": {},
   "source": [
    "#### Importing nessesary libraries:"
   ]
  },
  {
   "cell_type": "code",
   "execution_count": 1,
   "metadata": {},
   "outputs": [],
   "source": [
    "import functions\n",
    "import pandas as pd\n",
    "import pickle\n",
    "from sklearn.ensemble import RandomForestClassifier\n",
    "from sklearn.linear_model import LogisticRegression\n",
    "from sklearn.model_selection import GridSearchCV, train_test_split\n",
    "from sklearn.neighbors import KNeighborsClassifier\n",
    "from sklearn.svm import SVC\n",
    "from sklearn.tree import DecisionTreeClassifier\n",
    "from xgboost.sklearn import XGBClassifier\n",
    "import warnings\n",
    "from sklearn.exceptions import UndefinedMetricWarning, ConvergenceWarning\n",
    "warnings.filterwarnings(action='ignore', category=UndefinedMetricWarning)\n",
    "warnings.filterwarnings(action='ignore', category=ConvergenceWarning)\n",
    "warnings.simplefilter('ignore', FutureWarning)"
   ]
  },
  {
   "cell_type": "markdown",
   "metadata": {},
   "source": [
    "#### Loading sets:"
   ]
  },
  {
   "cell_type": "code",
   "execution_count": 2,
   "metadata": {},
   "outputs": [],
   "source": [
    "data_scaled = pd.read_csv(r'./data/data_scaled.csv', delimiter = ';')"
   ]
  },
  {
   "cell_type": "markdown",
   "metadata": {},
   "source": [
    "#### Split dataset into train and test subsets:"
   ]
  },
  {
   "cell_type": "code",
   "execution_count": 3,
   "metadata": {},
   "outputs": [],
   "source": [
    "y = data_scaled['y']\n",
    "X_scaled = data_scaled.drop(['y'], axis = 1)\n",
    "X_train, X_test, y_train, y_test = train_test_split(X_scaled, y, test_size = 0.2, random_state = 100, stratify = y)"
   ]
  },
  {
   "cell_type": "markdown",
   "metadata": {},
   "source": [
    "#### Resampling Techniques - oversampling minority class"
   ]
  },
  {
   "cell_type": "code",
   "execution_count": 4,
   "metadata": {},
   "outputs": [],
   "source": [
    "X_train, y_train = functions.upsample(X_train, y_train)"
   ]
  },
  {
   "cell_type": "markdown",
   "metadata": {},
   "source": [
    "# Examinig baseline models with grid search optimization"
   ]
  },
  {
   "cell_type": "code",
   "execution_count": 5,
   "metadata": {},
   "outputs": [],
   "source": [
    "results_wgs = {}"
   ]
  },
  {
   "cell_type": "markdown",
   "metadata": {},
   "source": [
    "##### LogisticRegression (with grid search):"
   ]
  },
  {
   "cell_type": "code",
   "execution_count": 6,
   "metadata": {},
   "outputs": [
    {
     "name": "stdout",
     "output_type": "stream",
     "text": [
      "Classification Report X_test:\n",
      "              precision    recall  f1-score   support\n",
      "\n",
      "           0       0.95      0.86      0.90      7308\n",
      "           1       0.35      0.61      0.45       928\n",
      "\n",
      "    accuracy                           0.83      8236\n",
      "   macro avg       0.65      0.73      0.67      8236\n",
      "weighted avg       0.88      0.83      0.85      8236\n",
      "\n",
      "Confusion Matrix:\n",
      "AUC: 0.47\n",
      "MAE: 0.17\n",
      "LogisticRegression(C=0.2, class_weight=None, dual=False, fit_intercept=True,\n",
      "                   intercept_scaling=1, l1_ratio=None, max_iter=100,\n",
      "                   multi_class='auto', n_jobs=None, penalty='l2',\n",
      "                   random_state=None, solver='liblinear', tol=0.0001, verbose=0,\n",
      "                   warm_start=False)\n"
     ]
    },
    {
     "data": {
      "image/png": "[encoded data removed]",
      "text/plain": [
       "<Figure size 216x216 with 2 Axes>"
      ]
     },
     "metadata": {
      "needs_background": "light"
     },
     "output_type": "display_data"
    }
   ],
   "source": [
    "model_to_gs = LogisticRegression(solver='liblinear')\n",
    "params = {\n",
    "    \"C\":[0.1 ,0.15, 0.2],\n",
    "    \"penalty\":[\"l1\",\"l2\"],\n",
    "}\n",
    "gscv = GridSearchCV(param_grid=params, estimator=model_to_gs, cv=3, n_jobs=4)\n",
    "gscv.fit(X_train, y_train)\n",
    "means = gscv.cv_results_\n",
    "best_model = gscv.best_estimator_\n",
    "model_LR_wgs = functions.vis_results(best_model, X_train, X_test, y_train, y_test)\n",
    "results_wgs.update(dict(functions.model_result(model_LR_wgs)))"
   ]
  },
  {
   "cell_type": "markdown",
   "metadata": {},
   "source": [
    "##### Decision Tree Classifier (with grid search):"
   ]
  },
  {
   "cell_type": "code",
   "execution_count": 7,
   "metadata": {},
   "outputs": [
    {
     "name": "stdout",
     "output_type": "stream",
     "text": [
      "Classification Report X_test:\n",
      "              precision    recall  f1-score   support\n",
      "\n",
      "           0       0.93      0.84      0.89      7308\n",
      "           1       0.29      0.50      0.37       928\n",
      "\n",
      "    accuracy                           0.81      8236\n",
      "   macro avg       0.61      0.67      0.63      8236\n",
      "weighted avg       0.86      0.81      0.83      8236\n",
      "\n",
      "Confusion Matrix:\n",
      "AUC: 0.35\n",
      "MAE: 0.19\n",
      "DecisionTreeClassifier(ccp_alpha=0.0, class_weight=None, criterion='gini',\n",
      "                       max_depth=15, max_features=None, max_leaf_nodes=None,\n",
      "                       min_impurity_decrease=0.0, min_impurity_split=None,\n",
      "                       min_samples_leaf=1, min_samples_split=2,\n",
      "                       min_weight_fraction_leaf=0.0, presort='deprecated',\n",
      "                       random_state=None, splitter='best')\n"
     ]
    },
    {
     "data": {
      "image/png": "[encoded data removed]",
      "text/plain": [
       "<Figure size 216x216 with 2 Axes>"
      ]
     },
     "metadata": {
      "needs_background": "light"
     },
     "output_type": "display_data"
    }
   ],
   "source": [
    "model_to_gs = DecisionTreeClassifier()\n",
    "params = {\n",
    "    \"criterion\": [\"gini\",\"entropy\"],\n",
    "    \"min_samples_leaf\": [1, 3 ,5],  \n",
    "    \"max_depth\": [11 , 13, 15],\n",
    "}\n",
    "gscv = GridSearchCV(param_grid=params, estimator=model_to_gs, cv=3, n_jobs=4)\n",
    "gscv.fit(X_train, y_train)\n",
    "best_model = gscv.best_estimator_\n",
    "model_DTC_wgs = functions.vis_results(best_model, X_train, X_test, y_train, y_test)\n",
    "results_wgs.update(dict(functions.model_result(model_DTC_wgs)))"
   ]
  },
  {
   "cell_type": "markdown",
   "metadata": {},
   "source": [
    "##### Random Forest Classifier (with grid search):"
   ]
  },
  {
   "cell_type": "code",
   "execution_count": 8,
   "metadata": {},
   "outputs": [
    {
     "name": "stdout",
     "output_type": "stream",
     "text": [
      "Classification Report X_test:\n",
      "              precision    recall  f1-score   support\n",
      "\n",
      "           0       0.95      0.88      0.91      7308\n",
      "           1       0.38      0.60      0.47       928\n",
      "\n",
      "    accuracy                           0.85      8236\n",
      "   macro avg       0.66      0.74      0.69      8236\n",
      "weighted avg       0.88      0.85      0.86      8236\n",
      "\n",
      "Confusion Matrix:\n",
      "AUC: 0.48\n",
      "MAE: 0.15\n",
      "RandomForestClassifier(bootstrap=True, ccp_alpha=0.0, class_weight=None,\n",
      "                       criterion='gini', max_depth=9, max_features='auto',\n",
      "                       max_leaf_nodes=None, max_samples=None,\n",
      "                       min_impurity_decrease=0.0, min_impurity_split=None,\n",
      "                       min_samples_leaf=5, min_samples_split=2,\n",
      "                       min_weight_fraction_leaf=0.0, n_estimators=100,\n",
      "                       n_jobs=None, oob_score=False, random_state=None,\n",
      "                       verbose=0, warm_start=False)\n"
     ]
    },
    {
     "data": {
      "image/png": "[encoded data removed]",
      "text/plain": [
       "<Figure size 216x216 with 2 Axes>"
      ]
     },
     "metadata": {
      "needs_background": "light"
     },
     "output_type": "display_data"
    }
   ],
   "source": [
    "model_to_gs = RandomForestClassifier()\n",
    "params = {\n",
    "    \"criterion\": [\"gini\",\"entropy\"],\n",
    "    \"min_samples_leaf\": [5 ,10, 15],\n",
    "    \"max_depth\": [5 , 7 , 9],\n",
    "}\n",
    "gscv = GridSearchCV(param_grid=params, estimator=model_to_gs, cv=3, n_jobs=4)\n",
    "gscv.fit(X_train, y_train)\n",
    "best_model = gscv.best_estimator_\n",
    "model_RFC_wgs = functions.vis_results(best_model, X_train, X_test, y_train, y_test)\n",
    "results_wgs.update(dict(functions.model_result(model_RFC_wgs)))"
   ]
  },
  {
   "cell_type": "markdown",
   "metadata": {},
   "source": [
    "##### SVM (with grid search):"
   ]
  },
  {
   "cell_type": "code",
   "execution_count": 9,
   "metadata": {},
   "outputs": [
    {
     "name": "stdout",
     "output_type": "stream",
     "text": [
      "Classification Report X_test:\n",
      "              precision    recall  f1-score   support\n",
      "\n",
      "           0       0.94      0.88      0.91      7308\n",
      "           1       0.38      0.59      0.46       928\n",
      "\n",
      "    accuracy                           0.85      8236\n",
      "   macro avg       0.66      0.73      0.69      8236\n",
      "weighted avg       0.88      0.85      0.86      8236\n",
      "\n",
      "Confusion Matrix:\n",
      "AUC: 0.47\n",
      "MAE: 0.15\n",
      "SVC(C=1, break_ties=False, cache_size=200, class_weight=None, coef0=0.0,\n",
      "    decision_function_shape='ovr', degree=3, gamma=0.01, kernel='rbf',\n",
      "    max_iter=-1, probability=False, random_state=None, shrinking=True,\n",
      "    tol=0.001, verbose=False)\n"
     ]
    },
    {
     "data": {
      "image/png": "[encoded data removed]",
      "text/plain": [
       "<Figure size 216x216 with 2 Axes>"
      ]
     },
     "metadata": {
      "needs_background": "light"
     },
     "output_type": "display_data"
    }
   ],
   "source": [
    "model_to_gs = SVC()\n",
    "params = {\n",
    "    \"C\": [0.1, 1],\n",
    "    \"gamma\": [0.001, 0.01],\n",
    "         }\n",
    "gscv = GridSearchCV(param_grid = params, estimator = model_to_gs, n_jobs = 4)\n",
    "gscv.fit(X_train, y_train)\n",
    "best_model = gscv.best_estimator_\n",
    "model_SVM_wgs = functions.vis_results(best_model, X_train, X_test, y_train, y_test)\n",
    "results_wgs.update(dict(functions.model_result(model_SVM_wgs)))"
   ]
  },
  {
   "cell_type": "markdown",
   "metadata": {},
   "source": [
    "##### KNeighbors Classifier (with grid search):"
   ]
  },
  {
   "cell_type": "code",
   "execution_count": 10,
   "metadata": {},
   "outputs": [
    {
     "name": "stdout",
     "output_type": "stream",
     "text": [
      "Classification Report X_test:\n",
      "              precision    recall  f1-score   support\n",
      "\n",
      "           0       0.91      0.92      0.92      7308\n",
      "           1       0.32      0.30      0.31       928\n",
      "\n",
      "    accuracy                           0.85      8236\n",
      "   macro avg       0.62      0.61      0.61      8236\n",
      "weighted avg       0.85      0.85      0.85      8236\n",
      "\n",
      "Confusion Matrix:\n",
      "AUC: 0.22\n",
      "MAE: 0.15\n",
      "KNeighborsClassifier(algorithm='auto', leaf_size=30, metric='minkowski',\n",
      "                     metric_params=None, n_jobs=None, n_neighbors=2, p=2,\n",
      "                     weights='distance')\n"
     ]
    },
    {
     "data": {
      "image/png": "[encoded data removed]",
      "text/plain": [
       "<Figure size 216x216 with 2 Axes>"
      ]
     },
     "metadata": {
      "needs_background": "light"
     },
     "output_type": "display_data"
    }
   ],
   "source": [
    "model_to_gs = KNeighborsClassifier()\n",
    "params = {\n",
    "    \"weights\": [\"uniform\", \"distance\"],\n",
    "    \"n_neighbors\": [2, 4],\n",
    "}\n",
    "gscv = GridSearchCV(param_grid=params, estimator=model_to_gs, n_jobs=4)\n",
    "gscv.fit(X_train, y_train)\n",
    "best_model = gscv.best_estimator_\n",
    "model_KNC_wgs = functions.vis_results(best_model, X_train, X_test, y_train, y_test)\n",
    "results_wgs.update(dict(functions.model_result(model_KNC_wgs)))"
   ]
  },
  {
   "cell_type": "markdown",
   "metadata": {},
   "source": [
    "##### XGB Classifier (with grid search):"
   ]
  },
  {
   "cell_type": "code",
   "execution_count": 11,
   "metadata": {},
   "outputs": [
    {
     "name": "stdout",
     "output_type": "stream",
     "text": [
      "Classification Report X_test:\n",
      "              precision    recall  f1-score   support\n",
      "\n",
      "           0       0.95      0.86      0.90      7308\n",
      "           1       0.36      0.62      0.46       928\n",
      "\n",
      "    accuracy                           0.83      8236\n",
      "   macro avg       0.65      0.74      0.68      8236\n",
      "weighted avg       0.88      0.83      0.85      8236\n",
      "\n",
      "Confusion Matrix:\n",
      "AUC: 0.49\n",
      "MAE: 0.17\n",
      "XGBClassifier(base_score=0.5, booster='gbtree', colsample_bylevel=1,\n",
      "              colsample_bynode=1, colsample_bytree=1, gamma=0,\n",
      "              learning_rate=0.3, max_delta_step=0, max_depth=3,\n",
      "              min_child_weight=15, missing=None, n_estimator=1,\n",
      "              n_estimators=100, n_jobs=1, nthread=None,\n",
      "              objective='binary:logistic', random_state=0, reg_alpha=0,\n",
      "              reg_lambda=1, scale_pos_weight=1, seed=None, silent=None,\n",
      "              subsample=1, verbosity=1)\n"
     ]
    },
    {
     "data": {
      "image/png": "[encoded data removed]",
      "text/plain": [
       "<Figure size 216x216 with 2 Axes>"
      ]
     },
     "metadata": {
      "needs_background": "light"
     },
     "output_type": "display_data"
    }
   ],
   "source": [
    "model_to_gs = XGBClassifier()\n",
    "params = {\n",
    "    \"n_estimator\": [1, 5, 10],\n",
    "    \"learning_rate\": [0.1, 0.2, 0.3],\n",
    "    \"min_child_weight\": [5, 10, 15],\n",
    "}\n",
    "gscv = GridSearchCV(param_grid=params, estimator=model_to_gs, cv=3, n_jobs=4)\n",
    "gscv.fit(X_train, y_train)\n",
    "best_model = gscv.best_estimator_\n",
    "model_XGB_wgs = functions.vis_results(best_model, X_train, X_test, y_train, y_test)\n",
    "results_wgs.update(dict(functions.model_result(model_XGB_wgs)))"
   ]
  },
  {
   "cell_type": "markdown",
   "metadata": {},
   "source": [
    "### Results:"
   ]
  },
  {
   "cell_type": "code",
   "execution_count": 12,
   "metadata": {},
   "outputs": [
    {
     "data": {
      "text/html": [
       "<div>\n",
       "<style scoped>\n",
       "    .dataframe tbody tr th:only-of-type {\n",
       "        vertical-align: middle;\n",
       "    }\n",
       "\n",
       "    .dataframe tbody tr th {\n",
       "        vertical-align: top;\n",
       "    }\n",
       "\n",
       "    .dataframe thead th {\n",
       "        text-align: right;\n",
       "    }\n",
       "</style>\n",
       "<table border=\"1\" class=\"dataframe\">\n",
       "  <thead>\n",
       "    <tr style=\"text-align: right;\">\n",
       "      <th></th>\n",
       "      <th>Model</th>\n",
       "      <th>ACC</th>\n",
       "      <th>AUC</th>\n",
       "      <th>PRECISION_ALL</th>\n",
       "      <th>RECALL_ALL</th>\n",
       "      <th>F1_ALL</th>\n",
       "      <th>PRECISION_1</th>\n",
       "      <th>RECALL_1</th>\n",
       "      <th>F1_1</th>\n",
       "      <th>MAE</th>\n",
       "    </tr>\n",
       "  </thead>\n",
       "  <tbody>\n",
       "    <tr>\n",
       "      <th>0</th>\n",
       "      <td>LogisticRegression</td>\n",
       "      <td>0.831107</td>\n",
       "      <td>0.469109</td>\n",
       "      <td>0.878940</td>\n",
       "      <td>0.831107</td>\n",
       "      <td>0.849394</td>\n",
       "      <td>0.354859</td>\n",
       "      <td>0.609914</td>\n",
       "      <td>0.448672</td>\n",
       "      <td>0.168893</td>\n",
       "    </tr>\n",
       "    <tr>\n",
       "      <th>1</th>\n",
       "      <td>DecisionTreeClassifier</td>\n",
       "      <td>0.805610</td>\n",
       "      <td>0.345358</td>\n",
       "      <td>0.858072</td>\n",
       "      <td>0.805610</td>\n",
       "      <td>0.826825</td>\n",
       "      <td>0.290081</td>\n",
       "      <td>0.501078</td>\n",
       "      <td>0.367444</td>\n",
       "      <td>0.194390</td>\n",
       "    </tr>\n",
       "    <tr>\n",
       "      <th>2</th>\n",
       "      <td>RandomForestClassifier</td>\n",
       "      <td>0.845192</td>\n",
       "      <td>0.480278</td>\n",
       "      <td>0.882231</td>\n",
       "      <td>0.845192</td>\n",
       "      <td>0.859687</td>\n",
       "      <td>0.381892</td>\n",
       "      <td>0.604526</td>\n",
       "      <td>0.468085</td>\n",
       "      <td>0.154808</td>\n",
       "    </tr>\n",
       "    <tr>\n",
       "      <th>3</th>\n",
       "      <td>SVC</td>\n",
       "      <td>0.847863</td>\n",
       "      <td>0.466355</td>\n",
       "      <td>0.880631</td>\n",
       "      <td>0.847863</td>\n",
       "      <td>0.860971</td>\n",
       "      <td>0.384833</td>\n",
       "      <td>0.585129</td>\n",
       "      <td>0.464301</td>\n",
       "      <td>0.152137</td>\n",
       "    </tr>\n",
       "    <tr>\n",
       "      <th>4</th>\n",
       "      <td>KNeighborsClassifier</td>\n",
       "      <td>0.849563</td>\n",
       "      <td>0.223676</td>\n",
       "      <td>0.845912</td>\n",
       "      <td>0.849563</td>\n",
       "      <td>0.847699</td>\n",
       "      <td>0.322691</td>\n",
       "      <td>0.304957</td>\n",
       "      <td>0.313573</td>\n",
       "      <td>0.150437</td>\n",
       "    </tr>\n",
       "    <tr>\n",
       "      <th>5</th>\n",
       "      <td>XGBClassifier</td>\n",
       "      <td>0.833779</td>\n",
       "      <td>0.485290</td>\n",
       "      <td>0.881604</td>\n",
       "      <td>0.833779</td>\n",
       "      <td>0.851884</td>\n",
       "      <td>0.362274</td>\n",
       "      <td>0.625000</td>\n",
       "      <td>0.458679</td>\n",
       "      <td>0.166221</td>\n",
       "    </tr>\n",
       "  </tbody>\n",
       "</table>\n",
       "</div>"
      ],
      "text/plain": [
       "                    Model       ACC       AUC  PRECISION_ALL  RECALL_ALL  \\\n",
       "0      LogisticRegression  0.831107  0.469109       0.878940    0.831107   \n",
       "1  DecisionTreeClassifier  0.805610  0.345358       0.858072    0.805610   \n",
       "2  RandomForestClassifier  0.845192  0.480278       0.882231    0.845192   \n",
       "3                     SVC  0.847863  0.466355       0.880631    0.847863   \n",
       "4    KNeighborsClassifier  0.849563  0.223676       0.845912    0.849563   \n",
       "5           XGBClassifier  0.833779  0.485290       0.881604    0.833779   \n",
       "\n",
       "     F1_ALL  PRECISION_1  RECALL_1      F1_1       MAE  \n",
       "0  0.849394     0.354859  0.609914  0.448672  0.168893  \n",
       "1  0.826825     0.290081  0.501078  0.367444  0.194390  \n",
       "2  0.859687     0.381892  0.604526  0.468085  0.154808  \n",
       "3  0.860971     0.384833  0.585129  0.464301  0.152137  \n",
       "4  0.847699     0.322691  0.304957  0.313573  0.150437  \n",
       "5  0.851884     0.362274  0.625000  0.458679  0.166221  "
      ]
     },
     "execution_count": 12,
     "metadata": {},
     "output_type": "execute_result"
    }
   ],
   "source": [
    "results_wgs = pd.DataFrame(data=results_wgs).T\n",
    "results_wgs.reset_index(inplace=True)\n",
    "results_wgs.columns = ['Model', 'ACC', 'AUC', 'PRECISION_ALL', 'RECALL_ALL', 'F1_ALL', 'PRECISION_1', 'RECALL_1', 'F1_1', 'MAE']\n",
    "results_wgs"
   ]
  },
  {
   "cell_type": "markdown",
   "metadata": {},
   "source": [
    "### Save results:"
   ]
  },
  {
   "cell_type": "code",
   "execution_count": 13,
   "metadata": {},
   "outputs": [],
   "source": [
    "results_wgs.to_csv(r'./results/results_wgs.csv', sep=';', index=False)"
   ]
  },
  {
   "cell_type": "markdown",
   "metadata": {},
   "source": [
    "### Save models:"
   ]
  },
  {
   "cell_type": "code",
   "execution_count": 14,
   "metadata": {},
   "outputs": [],
   "source": [
    "with open(f'./models/model_LR_wgs.pickle', 'wb') as f:\n",
    "    pickle.dump(model_LR_wgs[0], f, pickle.HIGHEST_PROTOCOL)\n",
    "with open(f'./models/model_DTC_wgs.pickle', 'wb') as f:\n",
    "    pickle.dump(model_DTC_wgs[0], f, pickle.HIGHEST_PROTOCOL)\n",
    "with open(f'./models/model_RFC_wgs.pickle', 'wb') as f:\n",
    "    pickle.dump(model_RFC_wgs[0], f, pickle.HIGHEST_PROTOCOL)\n",
    "with open(f'./models/model_SVM_wgs.pickle', 'wb') as f:\n",
    "    pickle.dump(model_SVM_wgs[0], f, pickle.HIGHEST_PROTOCOL)\n",
    "with open(f'./models/model_KNC_wgs.pickle', 'wb') as f:\n",
    "    pickle.dump(model_KNC_wgs[0], f, pickle.HIGHEST_PROTOCOL)\n",
    "with open(f'./models/model_XGB_wgs.pickle', 'wb') as f:\n",
    "    pickle.dump(model_XGB_wgs[0], f, pickle.HIGHEST_PROTOCOL)"
   ]
  }
 ],
 "metadata": {
  "kernelspec": {
   "display_name": "Python 3",
   "language": "python",
   "name": "python3"
  },
  "language_info": {
   "codemirror_mode": {
    "name": "ipython",
    "version": 3
   },
   "file_extension": ".py",
   "mimetype": "text/x-python",
   "name": "python",
   "nbconvert_exporter": "python",
   "pygments_lexer": "ipython3",
   "version": "3.7.6"
  }
 },
 "nbformat": 4,
 "nbformat_minor": 4
}
