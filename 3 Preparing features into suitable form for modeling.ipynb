{
 "cells": [
  {
   "cell_type": "markdown",
   "metadata": {},
   "source": [
    "# 3. Preparing features into suitable form for modeling"
   ]
  },
  {
   "cell_type": "markdown",
   "metadata": {},
   "source": [
    "##### Importing necessary libraries:"
   ]
  },
  {
   "cell_type": "code",
   "execution_count": 1,
   "metadata": {},
   "outputs": [],
   "source": [
    "import pandas as pd\n",
    "#import numpy as np\n",
    "from sklearn.preprocessing import StandardScaler\n",
    "from sklearn.model_selection import train_test_split\n",
    "from sklearn.utils import resample"
   ]
  },
  {
   "cell_type": "markdown",
   "metadata": {},
   "source": [
    "##### Loading dataset:"
   ]
  },
  {
   "cell_type": "code",
   "execution_count": 2,
   "metadata": {},
   "outputs": [],
   "source": [
    "data = pd.read_csv(r'./data/data.csv', delimiter = ';')"
   ]
  },
  {
   "cell_type": "markdown",
   "metadata": {},
   "source": [
    "##### Split this dataset into features and label sets:"
   ]
  },
  {
   "cell_type": "code",
   "execution_count": 3,
   "metadata": {},
   "outputs": [],
   "source": [
    "y = data['y']\n",
    "X = data.drop(['y'], axis = 1)"
   ]
  },
  {
   "cell_type": "markdown",
   "metadata": {},
   "source": [
    "##### Converting all categorical features into dummy variables:"
   ]
  },
  {
   "cell_type": "code",
   "execution_count": 4,
   "metadata": {},
   "outputs": [],
   "source": [
    "categorical_features = X.select_dtypes(include = [object]).columns\n",
    "X_num = pd.get_dummies(data = X, columns = categorical_features, drop_first = True)"
   ]
  },
  {
   "cell_type": "code",
   "execution_count": 5,
   "metadata": {
    "scrolled": true
   },
   "outputs": [
    {
     "name": "stdout",
     "output_type": "stream",
     "text": [
      "<class 'pandas.core.frame.DataFrame'>\n",
      "RangeIndex: 41176 entries, 0 to 41175\n",
      "Data columns (total 47 columns):\n",
      " #   Column                         Non-Null Count  Dtype  \n",
      "---  ------                         --------------  -----  \n",
      " 0   age                            41176 non-null  int64  \n",
      " 1   emp.var.rate                   41176 non-null  float64\n",
      " 2   cons.price.idx                 41176 non-null  float64\n",
      " 3   cons.conf.idx                  41176 non-null  float64\n",
      " 4   euribor3m                      41176 non-null  float64\n",
      " 5   nr.employed                    41176 non-null  float64\n",
      " 6   age_band                       41176 non-null  int64  \n",
      " 7   pdays_999                      41176 non-null  int64  \n",
      " 8   previous_0                     41176 non-null  int64  \n",
      " 9   campaign_band                  41176 non-null  int64  \n",
      " 10  job_blue-collar                41176 non-null  uint8  \n",
      " 11  job_entrepreneur               41176 non-null  uint8  \n",
      " 12  job_housemaid                  41176 non-null  uint8  \n",
      " 13  job_management                 41176 non-null  uint8  \n",
      " 14  job_retired                    41176 non-null  uint8  \n",
      " 15  job_self-employed              41176 non-null  uint8  \n",
      " 16  job_services                   41176 non-null  uint8  \n",
      " 17  job_student                    41176 non-null  uint8  \n",
      " 18  job_technician                 41176 non-null  uint8  \n",
      " 19  job_unemployed                 41176 non-null  uint8  \n",
      " 20  marital_married                41176 non-null  uint8  \n",
      " 21  marital_single                 41176 non-null  uint8  \n",
      " 22  education_basic.6y             41176 non-null  uint8  \n",
      " 23  education_basic.9y             41176 non-null  uint8  \n",
      " 24  education_high.school          41176 non-null  uint8  \n",
      " 25  education_illiterate           41176 non-null  uint8  \n",
      " 26  education_professional.course  41176 non-null  uint8  \n",
      " 27  education_university.degree    41176 non-null  uint8  \n",
      " 28  education_unknown              41176 non-null  uint8  \n",
      " 29  housing_yes                    41176 non-null  uint8  \n",
      " 30  loan_yes                       41176 non-null  uint8  \n",
      " 31  contact_telephone              41176 non-null  uint8  \n",
      " 32  month_aug                      41176 non-null  uint8  \n",
      " 33  month_dec                      41176 non-null  uint8  \n",
      " 34  month_jul                      41176 non-null  uint8  \n",
      " 35  month_jun                      41176 non-null  uint8  \n",
      " 36  month_mar                      41176 non-null  uint8  \n",
      " 37  month_may                      41176 non-null  uint8  \n",
      " 38  month_nov                      41176 non-null  uint8  \n",
      " 39  month_oct                      41176 non-null  uint8  \n",
      " 40  month_sep                      41176 non-null  uint8  \n",
      " 41  day_of_week_mon                41176 non-null  uint8  \n",
      " 42  day_of_week_thu                41176 non-null  uint8  \n",
      " 43  day_of_week_tue                41176 non-null  uint8  \n",
      " 44  day_of_week_wed                41176 non-null  uint8  \n",
      " 45  poutcome_nonexistent           41176 non-null  uint8  \n",
      " 46  poutcome_success               41176 non-null  uint8  \n",
      "dtypes: float64(5), int64(5), uint8(37)\n",
      "memory usage: 4.6 MB\n"
     ]
    }
   ],
   "source": [
    "X_num.info()"
   ]
  },
  {
   "cell_type": "markdown",
   "metadata": {},
   "source": [
    "##### Scale continous variables:"
   ]
  },
  {
   "cell_type": "code",
   "execution_count": 6,
   "metadata": {},
   "outputs": [
    {
     "data": {
      "text/html": [
       "<div>\n",
       "<style scoped>\n",
       "    .dataframe tbody tr th:only-of-type {\n",
       "        vertical-align: middle;\n",
       "    }\n",
       "\n",
       "    .dataframe tbody tr th {\n",
       "        vertical-align: top;\n",
       "    }\n",
       "\n",
       "    .dataframe thead th {\n",
       "        text-align: right;\n",
       "    }\n",
       "</style>\n",
       "<table border=\"1\" class=\"dataframe\">\n",
       "  <thead>\n",
       "    <tr style=\"text-align: right;\">\n",
       "      <th></th>\n",
       "      <th>age</th>\n",
       "      <th>emp.var.rate</th>\n",
       "      <th>cons.price.idx</th>\n",
       "      <th>cons.conf.idx</th>\n",
       "      <th>euribor3m</th>\n",
       "      <th>nr.employed</th>\n",
       "      <th>age_band</th>\n",
       "      <th>pdays_999</th>\n",
       "      <th>previous_0</th>\n",
       "      <th>campaign_band</th>\n",
       "      <th>...</th>\n",
       "      <th>month_may</th>\n",
       "      <th>month_nov</th>\n",
       "      <th>month_oct</th>\n",
       "      <th>month_sep</th>\n",
       "      <th>day_of_week_mon</th>\n",
       "      <th>day_of_week_thu</th>\n",
       "      <th>day_of_week_tue</th>\n",
       "      <th>day_of_week_wed</th>\n",
       "      <th>poutcome_nonexistent</th>\n",
       "      <th>poutcome_success</th>\n",
       "    </tr>\n",
       "  </thead>\n",
       "  <tbody>\n",
       "    <tr>\n",
       "      <th>0</th>\n",
       "      <td>1.533143</td>\n",
       "      <td>0.648101</td>\n",
       "      <td>0.722628</td>\n",
       "      <td>0.886568</td>\n",
       "      <td>0.712463</td>\n",
       "      <td>0.331695</td>\n",
       "      <td>1.439991</td>\n",
       "      <td>0.195445</td>\n",
       "      <td>0.397773</td>\n",
       "      <td>-0.873212</td>\n",
       "      <td>...</td>\n",
       "      <td>1.411</td>\n",
       "      <td>-0.332541</td>\n",
       "      <td>-0.133123</td>\n",
       "      <td>-0.118479</td>\n",
       "      <td>1.95893</td>\n",
       "      <td>-0.514487</td>\n",
       "      <td>-0.494332</td>\n",
       "      <td>-0.496157</td>\n",
       "      <td>0.397773</td>\n",
       "      <td>-0.185728</td>\n",
       "    </tr>\n",
       "    <tr>\n",
       "      <th>1</th>\n",
       "      <td>1.629107</td>\n",
       "      <td>0.648101</td>\n",
       "      <td>0.722628</td>\n",
       "      <td>0.886568</td>\n",
       "      <td>0.712463</td>\n",
       "      <td>0.331695</td>\n",
       "      <td>1.439991</td>\n",
       "      <td>0.195445</td>\n",
       "      <td>0.397773</td>\n",
       "      <td>-0.873212</td>\n",
       "      <td>...</td>\n",
       "      <td>1.411</td>\n",
       "      <td>-0.332541</td>\n",
       "      <td>-0.133123</td>\n",
       "      <td>-0.118479</td>\n",
       "      <td>1.95893</td>\n",
       "      <td>-0.514487</td>\n",
       "      <td>-0.494332</td>\n",
       "      <td>-0.496157</td>\n",
       "      <td>0.397773</td>\n",
       "      <td>-0.185728</td>\n",
       "    </tr>\n",
       "    <tr>\n",
       "      <th>2</th>\n",
       "      <td>-0.290177</td>\n",
       "      <td>0.648101</td>\n",
       "      <td>0.722628</td>\n",
       "      <td>0.886568</td>\n",
       "      <td>0.712463</td>\n",
       "      <td>0.331695</td>\n",
       "      <td>-0.529944</td>\n",
       "      <td>0.195445</td>\n",
       "      <td>0.397773</td>\n",
       "      <td>-0.873212</td>\n",
       "      <td>...</td>\n",
       "      <td>1.411</td>\n",
       "      <td>-0.332541</td>\n",
       "      <td>-0.133123</td>\n",
       "      <td>-0.118479</td>\n",
       "      <td>1.95893</td>\n",
       "      <td>-0.514487</td>\n",
       "      <td>-0.494332</td>\n",
       "      <td>-0.496157</td>\n",
       "      <td>0.397773</td>\n",
       "      <td>-0.185728</td>\n",
       "    </tr>\n",
       "    <tr>\n",
       "      <th>3</th>\n",
       "      <td>-0.002284</td>\n",
       "      <td>0.648101</td>\n",
       "      <td>0.722628</td>\n",
       "      <td>0.886568</td>\n",
       "      <td>0.712463</td>\n",
       "      <td>0.331695</td>\n",
       "      <td>0.455024</td>\n",
       "      <td>0.195445</td>\n",
       "      <td>0.397773</td>\n",
       "      <td>-0.873212</td>\n",
       "      <td>...</td>\n",
       "      <td>1.411</td>\n",
       "      <td>-0.332541</td>\n",
       "      <td>-0.133123</td>\n",
       "      <td>-0.118479</td>\n",
       "      <td>1.95893</td>\n",
       "      <td>-0.514487</td>\n",
       "      <td>-0.494332</td>\n",
       "      <td>-0.496157</td>\n",
       "      <td>0.397773</td>\n",
       "      <td>-0.185728</td>\n",
       "    </tr>\n",
       "    <tr>\n",
       "      <th>4</th>\n",
       "      <td>1.533143</td>\n",
       "      <td>0.648101</td>\n",
       "      <td>0.722628</td>\n",
       "      <td>0.886568</td>\n",
       "      <td>0.712463</td>\n",
       "      <td>0.331695</td>\n",
       "      <td>1.439991</td>\n",
       "      <td>0.195445</td>\n",
       "      <td>0.397773</td>\n",
       "      <td>-0.873212</td>\n",
       "      <td>...</td>\n",
       "      <td>1.411</td>\n",
       "      <td>-0.332541</td>\n",
       "      <td>-0.133123</td>\n",
       "      <td>-0.118479</td>\n",
       "      <td>1.95893</td>\n",
       "      <td>-0.514487</td>\n",
       "      <td>-0.494332</td>\n",
       "      <td>-0.496157</td>\n",
       "      <td>0.397773</td>\n",
       "      <td>-0.185728</td>\n",
       "    </tr>\n",
       "  </tbody>\n",
       "</table>\n",
       "<p>5 rows × 47 columns</p>\n",
       "</div>"
      ],
      "text/plain": [
       "        age  emp.var.rate  cons.price.idx  cons.conf.idx  euribor3m  \\\n",
       "0  1.533143      0.648101        0.722628       0.886568   0.712463   \n",
       "1  1.629107      0.648101        0.722628       0.886568   0.712463   \n",
       "2 -0.290177      0.648101        0.722628       0.886568   0.712463   \n",
       "3 -0.002284      0.648101        0.722628       0.886568   0.712463   \n",
       "4  1.533143      0.648101        0.722628       0.886568   0.712463   \n",
       "\n",
       "   nr.employed  age_band  pdays_999  previous_0  campaign_band  ...  \\\n",
       "0     0.331695  1.439991   0.195445    0.397773      -0.873212  ...   \n",
       "1     0.331695  1.439991   0.195445    0.397773      -0.873212  ...   \n",
       "2     0.331695 -0.529944   0.195445    0.397773      -0.873212  ...   \n",
       "3     0.331695  0.455024   0.195445    0.397773      -0.873212  ...   \n",
       "4     0.331695  1.439991   0.195445    0.397773      -0.873212  ...   \n",
       "\n",
       "   month_may  month_nov  month_oct  month_sep  day_of_week_mon  \\\n",
       "0      1.411  -0.332541  -0.133123  -0.118479          1.95893   \n",
       "1      1.411  -0.332541  -0.133123  -0.118479          1.95893   \n",
       "2      1.411  -0.332541  -0.133123  -0.118479          1.95893   \n",
       "3      1.411  -0.332541  -0.133123  -0.118479          1.95893   \n",
       "4      1.411  -0.332541  -0.133123  -0.118479          1.95893   \n",
       "\n",
       "   day_of_week_thu  day_of_week_tue  day_of_week_wed  poutcome_nonexistent  \\\n",
       "0        -0.514487        -0.494332        -0.496157              0.397773   \n",
       "1        -0.514487        -0.494332        -0.496157              0.397773   \n",
       "2        -0.514487        -0.494332        -0.496157              0.397773   \n",
       "3        -0.514487        -0.494332        -0.496157              0.397773   \n",
       "4        -0.514487        -0.494332        -0.496157              0.397773   \n",
       "\n",
       "   poutcome_success  \n",
       "0         -0.185728  \n",
       "1         -0.185728  \n",
       "2         -0.185728  \n",
       "3         -0.185728  \n",
       "4         -0.185728  \n",
       "\n",
       "[5 rows x 47 columns]"
      ]
     },
     "execution_count": 6,
     "metadata": {},
     "output_type": "execute_result"
    }
   ],
   "source": [
    "scaler = StandardScaler()\n",
    "X_scaled = pd.DataFrame(scaler.fit_transform(X_num), columns = X_num.columns)\n",
    "X_scaled.head()"
   ]
  },
  {
   "cell_type": "code",
   "execution_count": 7,
   "metadata": {},
   "outputs": [
    {
     "name": "stdout",
     "output_type": "stream",
     "text": [
      "<class 'pandas.core.frame.DataFrame'>\n",
      "RangeIndex: 41176 entries, 0 to 41175\n",
      "Data columns (total 47 columns):\n",
      " #   Column                         Non-Null Count  Dtype  \n",
      "---  ------                         --------------  -----  \n",
      " 0   age                            41176 non-null  float64\n",
      " 1   emp.var.rate                   41176 non-null  float64\n",
      " 2   cons.price.idx                 41176 non-null  float64\n",
      " 3   cons.conf.idx                  41176 non-null  float64\n",
      " 4   euribor3m                      41176 non-null  float64\n",
      " 5   nr.employed                    41176 non-null  float64\n",
      " 6   age_band                       41176 non-null  float64\n",
      " 7   pdays_999                      41176 non-null  float64\n",
      " 8   previous_0                     41176 non-null  float64\n",
      " 9   campaign_band                  41176 non-null  float64\n",
      " 10  job_blue-collar                41176 non-null  float64\n",
      " 11  job_entrepreneur               41176 non-null  float64\n",
      " 12  job_housemaid                  41176 non-null  float64\n",
      " 13  job_management                 41176 non-null  float64\n",
      " 14  job_retired                    41176 non-null  float64\n",
      " 15  job_self-employed              41176 non-null  float64\n",
      " 16  job_services                   41176 non-null  float64\n",
      " 17  job_student                    41176 non-null  float64\n",
      " 18  job_technician                 41176 non-null  float64\n",
      " 19  job_unemployed                 41176 non-null  float64\n",
      " 20  marital_married                41176 non-null  float64\n",
      " 21  marital_single                 41176 non-null  float64\n",
      " 22  education_basic.6y             41176 non-null  float64\n",
      " 23  education_basic.9y             41176 non-null  float64\n",
      " 24  education_high.school          41176 non-null  float64\n",
      " 25  education_illiterate           41176 non-null  float64\n",
      " 26  education_professional.course  41176 non-null  float64\n",
      " 27  education_university.degree    41176 non-null  float64\n",
      " 28  education_unknown              41176 non-null  float64\n",
      " 29  housing_yes                    41176 non-null  float64\n",
      " 30  loan_yes                       41176 non-null  float64\n",
      " 31  contact_telephone              41176 non-null  float64\n",
      " 32  month_aug                      41176 non-null  float64\n",
      " 33  month_dec                      41176 non-null  float64\n",
      " 34  month_jul                      41176 non-null  float64\n",
      " 35  month_jun                      41176 non-null  float64\n",
      " 36  month_mar                      41176 non-null  float64\n",
      " 37  month_may                      41176 non-null  float64\n",
      " 38  month_nov                      41176 non-null  float64\n",
      " 39  month_oct                      41176 non-null  float64\n",
      " 40  month_sep                      41176 non-null  float64\n",
      " 41  day_of_week_mon                41176 non-null  float64\n",
      " 42  day_of_week_thu                41176 non-null  float64\n",
      " 43  day_of_week_tue                41176 non-null  float64\n",
      " 44  day_of_week_wed                41176 non-null  float64\n",
      " 45  poutcome_nonexistent           41176 non-null  float64\n",
      " 46  poutcome_success               41176 non-null  float64\n",
      "dtypes: float64(47)\n",
      "memory usage: 14.8 MB\n"
     ]
    }
   ],
   "source": [
    "X_scaled.info()"
   ]
  },
  {
   "cell_type": "markdown",
   "metadata": {},
   "source": [
    "##### Merge X_sclaed and \"y\" sets in one big dataframe"
   ]
  },
  {
   "cell_type": "code",
   "execution_count": 8,
   "metadata": {},
   "outputs": [],
   "source": [
    "data_scaled = pd.concat([X_scaled, y], axis=1)"
   ]
  },
  {
   "cell_type": "markdown",
   "metadata": {},
   "source": [
    "##### Save preprocessed dataset"
   ]
  },
  {
   "cell_type": "code",
   "execution_count": 9,
   "metadata": {},
   "outputs": [],
   "source": [
    "data_scaled.to_csv(r'./data/data_scaled.csv', sep=';', index=False)"
   ]
  }
 ],
 "metadata": {
  "kernelspec": {
   "display_name": "Python 3",
   "language": "python",
   "name": "python3"
  },
  "language_info": {
   "codemirror_mode": {
    "name": "ipython",
    "version": 3
   },
   "file_extension": ".py",
   "mimetype": "text/x-python",
   "name": "python",
   "nbconvert_exporter": "python",
   "pygments_lexer": "ipython3",
   "version": "3.7.6"
  }
 },
 "nbformat": 4,
 "nbformat_minor": 4
}
