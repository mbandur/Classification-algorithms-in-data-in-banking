{
 "cells": [
  {
   "cell_type": "markdown",
   "metadata": {},
   "source": [
    "# Modeling - selection of the best models with default settings"
   ]
  },
  {
   "cell_type": "markdown",
   "metadata": {},
   "source": [
    "#### Importing necessary libraries:"
   ]
  },
  {
   "cell_type": "code",
   "execution_count": 1,
   "metadata": {},
   "outputs": [],
   "source": [
    "import functions\n",
    "import pandas as pd\n",
    "import numpy as np\n",
    "import pickle\n",
    "from sklearn.ensemble import RandomForestClassifier\n",
    "from sklearn.linear_model import LogisticRegression\n",
    "from sklearn.model_selection import GridSearchCV, train_test_split\n",
    "from sklearn.svm import SVC\n",
    "from sklearn.tree import DecisionTreeClassifier\n",
    "from xgboost.sklearn import XGBClassifier\n",
    "import warnings\n",
    "from sklearn.exceptions import UndefinedMetricWarning, ConvergenceWarning\n",
    "warnings.filterwarnings(action='ignore', category=UndefinedMetricWarning)\n",
    "warnings.filterwarnings(action='ignore', category=ConvergenceWarning)\n",
    "warnings.simplefilter('ignore', FutureWarning)"
   ]
  },
  {
   "cell_type": "markdown",
   "metadata": {},
   "source": [
    "#### Loading sets:"
   ]
  },
  {
   "cell_type": "code",
   "execution_count": 2,
   "metadata": {},
   "outputs": [],
   "source": [
    "data_scaled = pd.read_csv(r'./data/data_scaled.csv', delimiter = ';')"
   ]
  },
  {
   "cell_type": "markdown",
   "metadata": {},
   "source": [
    "#### Split dataset into train and test subsets:"
   ]
  },
  {
   "cell_type": "code",
   "execution_count": 3,
   "metadata": {},
   "outputs": [],
   "source": [
    "y = data_scaled['y']\n",
    "X_scaled = data_scaled.drop(['y'], axis = 1)\n",
    "X_train, X_test, y_train, y_test = train_test_split(X_scaled, y, test_size = 0.2, random_state = 100, stratify = y)"
   ]
  },
  {
   "cell_type": "markdown",
   "metadata": {},
   "source": [
    "## Examinig baseline models with default settings:"
   ]
  },
  {
   "cell_type": "code",
   "execution_count": 4,
   "metadata": {},
   "outputs": [],
   "source": [
    "results_wds = {}"
   ]
  },
  {
   "cell_type": "markdown",
   "metadata": {},
   "source": [
    "#### Logistic Regression (with default settings):"
   ]
  },
  {
   "cell_type": "code",
   "execution_count": 5,
   "metadata": {
    "scrolled": false
   },
   "outputs": [
    {
     "name": "stdout",
     "output_type": "stream",
     "text": [
      "Classification Report X_test:\n",
      "              precision    recall  f1-score   support\n",
      "\n",
      "           0       0.91      0.98      0.95      7308\n",
      "           1       0.66      0.24      0.36       928\n",
      "\n",
      "    accuracy                           0.90      8236\n",
      "   macro avg       0.79      0.61      0.65      8236\n",
      "weighted avg       0.88      0.90      0.88      8236\n",
      "\n",
      "Confusion Matrix:\n",
      "AUC: 0.58\n",
      "LogisticRegression(C=1.0, class_weight=None, dual=False, fit_intercept=True,\n",
      "                   intercept_scaling=1, l1_ratio=None, max_iter=100,\n",
      "                   multi_class='auto', n_jobs=None, penalty='l2',\n",
      "                   random_state=None, solver='lbfgs', tol=0.0001, verbose=0,\n",
      "                   warm_start=False)\n"
     ]
    },
    {
     "data": {
      "image/png": "[encoded data removed]",
      "text/plain": [
       "<Figure size 216x216 with 2 Axes>"
      ]
     },
     "metadata": {
      "needs_background": "light"
     },
     "output_type": "display_data"
    }
   ],
   "source": [
    "model_LR_wds = functions.vis_results(LogisticRegression(), X_train, X_test, y_train, y_test)\n",
    "results_wds.update(dict(functions.model_result(model_LR_wds)))"
   ]
  },
  {
   "cell_type": "markdown",
   "metadata": {},
   "source": [
    "#### Decision Tree Classifier (with default settings):"
   ]
  },
  {
   "cell_type": "code",
   "execution_count": 6,
   "metadata": {},
   "outputs": [
    {
     "name": "stdout",
     "output_type": "stream",
     "text": [
      "Classification Report X_test:\n",
      "              precision    recall  f1-score   support\n",
      "\n",
      "           0       0.91      0.91      0.91      7308\n",
      "           1       0.31      0.32      0.31       928\n",
      "\n",
      "    accuracy                           0.84      8236\n",
      "   macro avg       0.61      0.61      0.61      8236\n",
      "weighted avg       0.85      0.84      0.84      8236\n",
      "\n",
      "Confusion Matrix:\n",
      "AUC: 0.23\n",
      "DecisionTreeClassifier(ccp_alpha=0.0, class_weight=None, criterion='gini',\n",
      "                       max_depth=None, max_features=None, max_leaf_nodes=None,\n",
      "                       min_impurity_decrease=0.0, min_impurity_split=None,\n",
      "                       min_samples_leaf=1, min_samples_split=2,\n",
      "                       min_weight_fraction_leaf=0.0, presort='deprecated',\n",
      "                       random_state=None, splitter='best')\n"
     ]
    },
    {
     "data": {
      "image/png": "[encoded data removed]",
      "text/plain": [
       "<Figure size 216x216 with 2 Axes>"
      ]
     },
     "metadata": {
      "needs_background": "light"
     },
     "output_type": "display_data"
    }
   ],
   "source": [
    "model_DTC_wds = functions.vis_results(DecisionTreeClassifier(), X_train, X_test, y_train, y_test)\n",
    "results_wds.update(dict(functions.model_result(model_DTC_wds)))"
   ]
  },
  {
   "cell_type": "markdown",
   "metadata": {},
   "source": [
    "#### Random Forest Classifier (with default settings):"
   ]
  },
  {
   "cell_type": "code",
   "execution_count": 7,
   "metadata": {
    "scrolled": true
   },
   "outputs": [
    {
     "name": "stdout",
     "output_type": "stream",
     "text": [
      "Classification Report X_test:\n",
      "              precision    recall  f1-score   support\n",
      "\n",
      "           0       0.91      0.97      0.94      7308\n",
      "           1       0.53      0.29      0.37       928\n",
      "\n",
      "    accuracy                           0.89      8236\n",
      "   macro avg       0.72      0.63      0.66      8236\n",
      "weighted avg       0.87      0.89      0.88      8236\n",
      "\n",
      "Confusion Matrix:\n",
      "AUC: 0.54\n",
      "RandomForestClassifier(bootstrap=True, ccp_alpha=0.0, class_weight=None,\n",
      "                       criterion='gini', max_depth=None, max_features='auto',\n",
      "                       max_leaf_nodes=None, max_samples=None,\n",
      "                       min_impurity_decrease=0.0, min_impurity_split=None,\n",
      "                       min_samples_leaf=1, min_samples_split=2,\n",
      "                       min_weight_fraction_leaf=0.0, n_estimators=100,\n",
      "                       n_jobs=None, oob_score=False, random_state=None,\n",
      "                       verbose=0, warm_start=False)\n"
     ]
    },
    {
     "data": {
      "image/png": "[encoded data removed]",
      "text/plain": [
       "<Figure size 216x216 with 2 Axes>"
      ]
     },
     "metadata": {
      "needs_background": "light"
     },
     "output_type": "display_data"
    }
   ],
   "source": [
    "model_RFC_wds = functions.vis_results(RandomForestClassifier(), X_train, X_test, y_train, y_test)\n",
    "results_wds.update(dict(functions.model_result(model_RFC_wds)))"
   ]
  },
  {
   "cell_type": "markdown",
   "metadata": {},
   "source": [
    "#### SVM (with default settings):"
   ]
  },
  {
   "cell_type": "code",
   "execution_count": 8,
   "metadata": {},
   "outputs": [
    {
     "name": "stdout",
     "output_type": "stream",
     "text": [
      "Classification Report X_test:\n",
      "              precision    recall  f1-score   support\n",
      "\n",
      "           0       0.91      0.98      0.95      7308\n",
      "           1       0.64      0.22      0.33       928\n",
      "\n",
      "    accuracy                           0.90      8236\n",
      "   macro avg       0.78      0.60      0.64      8236\n",
      "weighted avg       0.88      0.90      0.88      8236\n",
      "\n",
      "Confusion Matrix:\n",
      "AUC: 0.41\n",
      "SVC(C=1.0, break_ties=False, cache_size=200, class_weight=None, coef0=0.0,\n",
      "    decision_function_shape='ovr', degree=3, gamma='scale', kernel='rbf',\n",
      "    max_iter=-1, probability=True, random_state=None, shrinking=True, tol=0.001,\n",
      "    verbose=False)\n"
     ]
    },
    {
     "data": {
      "image/png": "[encoded data removed]",
      "text/plain": [
       "<Figure size 216x216 with 2 Axes>"
      ]
     },
     "metadata": {
      "needs_background": "light"
     },
     "output_type": "display_data"
    }
   ],
   "source": [
    "model_SVM_wds = functions.vis_results(SVC(probability=True), X_train, X_test, y_train, y_test)\n",
    "results_wds.update(dict(functions.model_result(model_SVM_wds)))"
   ]
  },
  {
   "cell_type": "markdown",
   "metadata": {},
   "source": [
    "#### XGB Classifier (with default settings):"
   ]
  },
  {
   "cell_type": "code",
   "execution_count": 9,
   "metadata": {},
   "outputs": [
    {
     "name": "stdout",
     "output_type": "stream",
     "text": [
      "Classification Report X_test:\n",
      "              precision    recall  f1-score   support\n",
      "\n",
      "           0       0.91      0.99      0.95      7308\n",
      "           1       0.68      0.25      0.36       928\n",
      "\n",
      "    accuracy                           0.90      8236\n",
      "   macro avg       0.80      0.62      0.65      8236\n",
      "weighted avg       0.89      0.90      0.88      8236\n",
      "\n",
      "Confusion Matrix:\n",
      "AUC: 0.60\n",
      "XGBClassifier(base_score=0.5, booster='gbtree', colsample_bylevel=1,\n",
      "              colsample_bynode=1, colsample_bytree=1, gamma=0,\n",
      "              learning_rate=0.1, max_delta_step=0, max_depth=3,\n",
      "              min_child_weight=1, missing=None, n_estimators=100, n_jobs=1,\n",
      "              nthread=None, objective='binary:logistic', random_state=0,\n",
      "              reg_alpha=0, reg_lambda=1, scale_pos_weight=1, seed=None,\n",
      "              silent=None, subsample=1, verbosity=1)\n"
     ]
    },
    {
     "data": {
      "image/png": "[encoded data removed]",
      "text/plain": [
       "<Figure size 216x216 with 2 Axes>"
      ]
     },
     "metadata": {
      "needs_background": "light"
     },
     "output_type": "display_data"
    }
   ],
   "source": [
    "model_XGB_wds = functions.vis_results(XGBClassifier(), X_train, X_test, y_train, y_test)\n",
    "results_wds.update(dict(functions.model_result(model_XGB_wds)))"
   ]
  },
  {
   "cell_type": "markdown",
   "metadata": {},
   "source": [
    "### Results:#"
   ]
  },
  {
   "cell_type": "code",
   "execution_count": 10,
   "metadata": {},
   "outputs": [
    {
     "data": {
      "text/html": [
       "<div>\n",
       "<style scoped>\n",
       "    .dataframe tbody tr th:only-of-type {\n",
       "        vertical-align: middle;\n",
       "    }\n",
       "\n",
       "    .dataframe tbody tr th {\n",
       "        vertical-align: top;\n",
       "    }\n",
       "\n",
       "    .dataframe thead th {\n",
       "        text-align: right;\n",
       "    }\n",
       "</style>\n",
       "<table border=\"1\" class=\"dataframe\">\n",
       "  <thead>\n",
       "    <tr style=\"text-align: right;\">\n",
       "      <th></th>\n",
       "      <th>Model</th>\n",
       "      <th>ACC</th>\n",
       "      <th>AUC</th>\n",
       "      <th>PRECISION_ALL</th>\n",
       "      <th>RECALL_ALL</th>\n",
       "      <th>F1_ALL</th>\n",
       "      <th>PRECISION_1</th>\n",
       "      <th>RECALL_1</th>\n",
       "      <th>F1_1</th>\n",
       "    </tr>\n",
       "  </thead>\n",
       "  <tbody>\n",
       "    <tr>\n",
       "      <th>0</th>\n",
       "      <td>LogisticRegression</td>\n",
       "      <td>0.900923</td>\n",
       "      <td>0.577172</td>\n",
       "      <td>0.883316</td>\n",
       "      <td>0.900923</td>\n",
       "      <td>0.879974</td>\n",
       "      <td>0.663743</td>\n",
       "      <td>0.244612</td>\n",
       "      <td>0.357480</td>\n",
       "    </tr>\n",
       "    <tr>\n",
       "      <th>1</th>\n",
       "      <td>DecisionTreeClassifier</td>\n",
       "      <td>0.843006</td>\n",
       "      <td>0.231810</td>\n",
       "      <td>0.845278</td>\n",
       "      <td>0.843006</td>\n",
       "      <td>0.844129</td>\n",
       "      <td>0.309698</td>\n",
       "      <td>0.320043</td>\n",
       "      <td>0.314785</td>\n",
       "    </tr>\n",
       "    <tr>\n",
       "      <th>2</th>\n",
       "      <td>RandomForestClassifier</td>\n",
       "      <td>0.891452</td>\n",
       "      <td>0.535721</td>\n",
       "      <td>0.871676</td>\n",
       "      <td>0.891452</td>\n",
       "      <td>0.876729</td>\n",
       "      <td>0.534000</td>\n",
       "      <td>0.287716</td>\n",
       "      <td>0.373950</td>\n",
       "    </tr>\n",
       "    <tr>\n",
       "      <th>3</th>\n",
       "      <td>SVC</td>\n",
       "      <td>0.898494</td>\n",
       "      <td>0.412184</td>\n",
       "      <td>0.878919</td>\n",
       "      <td>0.898494</td>\n",
       "      <td>0.875910</td>\n",
       "      <td>0.642857</td>\n",
       "      <td>0.223060</td>\n",
       "      <td>0.331200</td>\n",
       "    </tr>\n",
       "    <tr>\n",
       "      <th>4</th>\n",
       "      <td>XGBClassifier</td>\n",
       "      <td>0.902258</td>\n",
       "      <td>0.597292</td>\n",
       "      <td>0.885846</td>\n",
       "      <td>0.902258</td>\n",
       "      <td>0.881218</td>\n",
       "      <td>0.683582</td>\n",
       "      <td>0.246767</td>\n",
       "      <td>0.362629</td>\n",
       "    </tr>\n",
       "  </tbody>\n",
       "</table>\n",
       "</div>"
      ],
      "text/plain": [
       "                    Model       ACC       AUC  PRECISION_ALL  RECALL_ALL  \\\n",
       "0      LogisticRegression  0.900923  0.577172       0.883316    0.900923   \n",
       "1  DecisionTreeClassifier  0.843006  0.231810       0.845278    0.843006   \n",
       "2  RandomForestClassifier  0.891452  0.535721       0.871676    0.891452   \n",
       "3                     SVC  0.898494  0.412184       0.878919    0.898494   \n",
       "4           XGBClassifier  0.902258  0.597292       0.885846    0.902258   \n",
       "\n",
       "     F1_ALL  PRECISION_1  RECALL_1      F1_1  \n",
       "0  0.879974     0.663743  0.244612  0.357480  \n",
       "1  0.844129     0.309698  0.320043  0.314785  \n",
       "2  0.876729     0.534000  0.287716  0.373950  \n",
       "3  0.875910     0.642857  0.223060  0.331200  \n",
       "4  0.881218     0.683582  0.246767  0.362629  "
      ]
     },
     "execution_count": 10,
     "metadata": {},
     "output_type": "execute_result"
    }
   ],
   "source": [
    "results_wds = pd.DataFrame(data=results_wds).T\n",
    "results_wds.reset_index(inplace=True)\n",
    "results_wds.columns = ['Model', 'ACC', 'AUC', 'PRECISION_ALL', 'RECALL_ALL', 'F1_ALL', 'PRECISION_1', 'RECALL_1', 'F1_1']\n",
    "results_wds"
   ]
  },
  {
   "cell_type": "markdown",
   "metadata": {},
   "source": [
    "### Save results:"
   ]
  },
  {
   "cell_type": "code",
   "execution_count": 11,
   "metadata": {},
   "outputs": [],
   "source": [
    "results_wds.to_csv(r'./results/results_wds.csv', sep=';', index=False)"
   ]
  },
  {
   "cell_type": "markdown",
   "metadata": {},
   "source": [
    "### Save models using pickle library:"
   ]
  },
  {
   "cell_type": "code",
   "execution_count": 12,
   "metadata": {},
   "outputs": [],
   "source": [
    "with open(f'./models/model_LR_wds.pickle', 'wb') as f:\n",
    "    pickle.dump(model_LR_wds[0], f, pickle.HIGHEST_PROTOCOL)\n",
    "with open(f'./models/model_DTC_wds.pickle', 'wb') as f:\n",
    "    pickle.dump(model_DTC_wds[0], f, pickle.HIGHEST_PROTOCOL)\n",
    "with open(f'./models/model_RFC_wds.pickle', 'wb') as f:\n",
    "    pickle.dump(model_RFC_wds[0], f, pickle.HIGHEST_PROTOCOL)\n",
    "with open(f'./models/model_SVM_wds.pickle', 'wb') as f:\n",
    "    pickle.dump(model_SVM_wds[0], f, pickle.HIGHEST_PROTOCOL)\n",
    "with open(f'./models/model_XGB_wds.pickle', 'wb') as f:\n",
    "    pickle.dump(model_XGB_wds[0], f, pickle.HIGHEST_PROTOCOL)"
   ]
  }
 ],
 "metadata": {
  "kernelspec": {
   "display_name": "Python 3",
   "language": "python",
   "name": "python3"
  },
  "language_info": {
   "codemirror_mode": {
    "name": "ipython",
    "version": 3
   },
   "file_extension": ".py",
   "mimetype": "text/x-python",
   "name": "python",
   "nbconvert_exporter": "python",
   "pygments_lexer": "ipython3",
   "version": "3.7.6"
  }
 },
 "nbformat": 4,
 "nbformat_minor": 4
}
